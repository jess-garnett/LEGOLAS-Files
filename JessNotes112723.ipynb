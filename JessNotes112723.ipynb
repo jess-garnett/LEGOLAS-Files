{
 "cells": [
  {
   "cell_type": "markdown",
   "metadata": {},
   "source": [
    "# Jess's Notes 11/27/23"
   ]
  },
  {
   "cell_type": "markdown",
   "metadata": {},
   "source": [
    "IP Addresses:\n",
    "- 192.168.0.4   2a\n",
    "- 192.168.0.5   2b"
   ]
  },
  {
   "cell_type": "code",
   "execution_count": 3,
   "metadata": {},
   "outputs": [],
   "source": [
    "from os import chdir\n",
    "chdir(\"Code\\LEGOLAS_Scripts\")"
   ]
  },
  {
   "cell_type": "code",
   "execution_count": 4,
   "metadata": {},
   "outputs": [],
   "source": [
    "import manual"
   ]
  },
  {
   "cell_type": "code",
   "execution_count": null,
   "metadata": {},
   "outputs": [
    {
     "name": "stdout",
     "output_type": "stream",
     "text": [
      "kill server at PID:1616\n",
      "restarting the rpyc server at host: 192.168.0.4\n",
      "rpyc server start successfully\n",
      "kill server at PID:1259\n",
      "restarting the rpyc server at host: 192.168.0.5\n",
      "rpyc server start successfully\n"
     ]
    },
    {
     "name": "stderr",
     "output_type": "stream",
     "text": [
      "Socket exception: An existing connection was forcibly closed by the remote host (10054)\n",
      "Socket exception: An existing connection was forcibly closed by the remote host (10054)\n",
      "Socket exception: An existing connection was forcibly closed by the remote host (10054)\n",
      "Socket exception: An existing connection was forcibly closed by the remote host (10054)\n",
      "Socket exception: An existing connection was forcibly closed by the remote host (10054)\n",
      "Socket exception: An existing connection was forcibly closed by the remote host (10054)\n",
      "Socket exception: An existing connection was forcibly closed by the remote host (10054)\n",
      "Socket exception: An existing connection was forcibly closed by the remote host (10054)\n",
      "Socket exception: An existing connection was forcibly closed by the remote host (10054)\n",
      "Socket exception: An existing connection was forcibly closed by the remote host (10054)\n",
      "Socket exception: An existing connection was forcibly closed by the remote host (10054)\n",
      "Socket exception: An existing connection was forcibly closed by the remote host (10054)\n"
     ]
    }
   ],
   "source": [
    "host_1=\"192.168.0.4\"\n",
    "host_2=\"192.168.0.5\"\n",
    "manual.utils.restart_server(host=host_1)\n",
    "manual.utils.restart_server(host=host_2)"
   ]
  },
  {
   "cell_type": "code",
   "execution_count": 21,
   "metadata": {},
   "outputs": [],
   "source": [
    "config_path=\"../../config_12_04_23.yaml\"\n",
    "stage, depo_device, pH_device, conn1, conn2, config = manual.load_from_config(config_path)\n",
    "\n",
    "context=manual.context\n",
    "\n",
    "context.stage = stage\n",
    "context.pH_device = pH_device\n",
    "context.depo_device = depo_device\n",
    "context.pi1_address = config['global']['pi1_address']\n",
    "context.pi2_address = config['global']['pi2_address']"
   ]
  },
  {
   "cell_type": "markdown",
   "metadata": {},
   "source": [
    "# pH Calibration of 'bad' probe"
   ]
  },
  {
   "cell_type": "code",
   "execution_count": 29,
   "metadata": {},
   "outputs": [
    {
     "name": "stdout",
     "output_type": "stream",
     "text": [
      "Slope:  2.564102564102564\n",
      "Intercept:  3.5128205128205128\n"
     ]
    }
   ],
   "source": [
    "volt7=1.36\n",
    "volt4=0.19\n",
    "rise=7-4\n",
    "run=ph7-ph4\n",
    "slope=rise/run\n",
    "intercept=4-slope*ph4\n",
    "print(\"Slope: \",slope)\n",
    "print(\"Intercept: \",intercept)\n"
   ]
  },
  {
   "cell_type": "markdown",
   "metadata": {},
   "source": [
    "Calibration seemed to work. Seems like we won't need to replace the probe? Will double check."
   ]
  },
  {
   "cell_type": "markdown",
   "metadata": {},
   "source": [
    "# 11/27"
   ]
  },
  {
   "cell_type": "markdown",
   "metadata": {},
   "source": [
    "Ref 7.0: 6.95\n",
    "\n",
    "Ref 4.0: 3.82\n",
    "\n",
    "Good enough!"
   ]
  },
  {
   "cell_type": "markdown",
   "metadata": {},
   "source": [
    "## From Demo\n",
    "Definitely need the syringe to go lower.\n",
    "    Syringe empties from the full up position so full down should be set inside the acid/base containers.\n"
   ]
  }
 ],
 "metadata": {
  "kernelspec": {
   "display_name": ".venv",
   "language": "python",
   "name": "python3"
  },
  "language_info": {
   "codemirror_mode": {
    "name": "ipython",
    "version": 3
   },
   "file_extension": ".py",
   "mimetype": "text/x-python",
   "name": "python",
   "nbconvert_exporter": "python",
   "pygments_lexer": "ipython3",
   "version": "3.10.6"
  }
 },
 "nbformat": 4,
 "nbformat_minor": 2
}
