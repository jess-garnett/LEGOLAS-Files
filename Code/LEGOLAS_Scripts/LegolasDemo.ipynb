{
 "cells": [
  {
   "cell_type": "markdown",
   "id": "a5e32ee6",
   "metadata": {},
   "source": [
    "# Legolas Demo Code\n",
    "\n",
    "Use this code to test your calibration values and as a reference for solving the challenges"
   ]
  },
  {
   "cell_type": "code",
   "execution_count": 27,
   "id": "81121651",
   "metadata": {},
   "outputs": [],
   "source": [
    "from core import *\n",
    "import utils"
   ]
  },
  {
   "cell_type": "code",
   "execution_count": 28,
   "id": "e261432c",
   "metadata": {},
   "outputs": [
    {
     "name": "stdout",
     "output_type": "stream",
     "text": [
      "kill server at PID:1889\n",
      "restarting the rpyc server at host: 192.168.0.4\n",
      "rpyc server start successfully\n",
      "kill server at PID:15104\n",
      "restarting the rpyc server at host: 192.168.0.5\n",
      "rpyc server start successfully\n"
     ]
    }
   ],
   "source": [
    "# this is how you reset the rpyc server when facing the port already in use\n",
    "# need to change to actual host name\n",
    "host_1 = \"192.168.0.4\"\n",
    "host_2 = \"192.168.0.5\"\n",
    "\n",
    "utils.restart_server(host=host_1)\n",
    "utils.restart_server(host=host_2)"
   ]
  },
  {
   "cell_type": "code",
   "execution_count": 29,
   "id": "f7c1a4ef",
   "metadata": {},
   "outputs": [],
   "source": [
    "stage, depo_device, pH_device, conn1, conn2, config = load_from_config(r\"C:\\Users\\drago\\Documents\\GitHub\\LEGOLAS-Files\\config_11_27_23.yaml\")"
   ]
  },
  {
   "cell_type": "code",
   "execution_count": 6,
   "id": "4221b088",
   "metadata": {
    "scrolled": true
   },
   "outputs": [
    {
     "ename": "AssertionError",
     "evalue": "",
     "output_type": "error",
     "traceback": [
      "\u001b[1;31m---------------------------------------------------------------------------\u001b[0m",
      "\u001b[1;31mAssertionError\u001b[0m                            Traceback (most recent call last)",
      "\u001b[1;32mc:\\Users\\drago\\Documents\\GitHub\\LEGOLAS-Files\\Code\\LEGOLAS_Scripts\\LegolasDemo.ipynb Cell 5\u001b[0m line \u001b[0;36m2\n\u001b[0;32m      <a href='vscode-notebook-cell:/c%3A/Users/drago/Documents/GitHub/LEGOLAS-Files/Code/LEGOLAS_Scripts/LegolasDemo.ipynb#W4sZmlsZQ%3D%3D?line=0'>1</a>\u001b[0m \u001b[39m# it is ok if this fails, just move on to the next code block\u001b[39;00m\n\u001b[1;32m----> <a href='vscode-notebook-cell:/c%3A/Users/drago/Documents/GitHub/LEGOLAS-Files/Code/LEGOLAS_Scripts/LegolasDemo.ipynb#W4sZmlsZQ%3D%3D?line=1'>2</a>\u001b[0m sanity_check(stage\u001b[39m=\u001b[39;49mstage, pH_device\u001b[39m=\u001b[39;49mpH_device, depo_device\u001b[39m=\u001b[39;49mdepo_device)\n",
      "File \u001b[1;32mc:\\Users\\drago\\Documents\\GitHub\\LEGOLAS-Files\\Code\\LEGOLAS_Scripts\\core.py:603\u001b[0m, in \u001b[0;36msanity_check\u001b[1;34m(stage, pH_device, depo_device)\u001b[0m\n\u001b[0;32m    601\u001b[0m \u001b[39mdef\u001b[39;00m \u001b[39msanity_check\u001b[39m(stage, pH_device, depo_device):\n\u001b[0;32m    602\u001b[0m     stage\u001b[39m.\u001b[39msanity_check()\n\u001b[1;32m--> 603\u001b[0m     pH_device\u001b[39m.\u001b[39;49msanity_check()\n\u001b[0;32m    604\u001b[0m     depo_device\u001b[39m.\u001b[39msanity_check()\n\u001b[0;32m    605\u001b[0m     \u001b[39mreturn\u001b[39;00m \u001b[39mTrue\u001b[39;00m\n",
      "File \u001b[1;32mc:\\Users\\drago\\Documents\\GitHub\\LEGOLAS-Files\\Code\\LEGOLAS_Scripts\\core.py:528\u001b[0m, in \u001b[0;36mpHDevice.sanity_check\u001b[1;34m(self)\u001b[0m\n\u001b[0;32m    526\u001b[0m pos \u001b[39m=\u001b[39m \u001b[39mself\u001b[39m\u001b[39m.\u001b[39mmotor_pH\u001b[39m.\u001b[39mget_position()\n\u001b[0;32m    527\u001b[0m l, m \u001b[39m=\u001b[39m \u001b[39mmin\u001b[39m(\u001b[39mself\u001b[39m\u001b[39m.\u001b[39mpH_positions[\u001b[39m\"\u001b[39m\u001b[39mfull_up\u001b[39m\u001b[39m\"\u001b[39m], \u001b[39mself\u001b[39m\u001b[39m.\u001b[39mpH_positions[\u001b[39m\"\u001b[39m\u001b[39mfull_down\u001b[39m\u001b[39m\"\u001b[39m]), \u001b[39mmax\u001b[39m(\u001b[39mself\u001b[39m\u001b[39m.\u001b[39mpH_positions[\u001b[39m\"\u001b[39m\u001b[39mfull_up\u001b[39m\u001b[39m\"\u001b[39m], \u001b[39mself\u001b[39m\u001b[39m.\u001b[39mpH_positions[\u001b[39m\"\u001b[39m\u001b[39mfull_down\u001b[39m\u001b[39m\"\u001b[39m])\n\u001b[1;32m--> 528\u001b[0m \u001b[39massert\u001b[39;00m  l \u001b[39m<\u001b[39m\u001b[39m=\u001b[39m pos \u001b[39mand\u001b[39;00m pos \u001b[39m<\u001b[39m\u001b[39m=\u001b[39m m\n",
      "\u001b[1;31mAssertionError\u001b[0m: "
     ]
    }
   ],
   "source": [
    "# it is ok if this fails, just move on to the next code block\n",
    "sanity_check(stage=stage, pH_device=pH_device, depo_device=depo_device)"
   ]
  },
  {
   "cell_type": "code",
   "execution_count": 30,
   "id": "8e64d969",
   "metadata": {},
   "outputs": [
    {
     "name": "stdout",
     "output_type": "stream",
     "text": [
      "/dev/ttyACM0 ttyACM0 USB VID:PID=2341:0043 SER=9553034393435130E032 LOCATION=1-1.1:1.0\n",
      "/dev/ttyAMA0 ttyAMA0 fe201000.serial\n"
     ]
    }
   ],
   "source": [
    "# find the usb port if problem occur\n",
    "list_ports = conn1.modules['serial.tools.list_ports']\n",
    "\n",
    "ports=list_ports.comports()\n",
    "for port, desc, hwid in sorted(ports):\n",
    "    print(port, desc, hwid)"
   ]
  },
  {
   "cell_type": "markdown",
   "id": "807dfbd3",
   "metadata": {},
   "source": [
    "## Test Device Functionality"
   ]
  },
  {
   "cell_type": "code",
   "execution_count": 38,
   "id": "66b54d9c",
   "metadata": {},
   "outputs": [
    {
     "data": {
      "text/plain": [
       "(407, 885)"
      ]
     },
     "execution_count": 38,
     "metadata": {},
     "output_type": "execute_result"
    }
   ],
   "source": [
    "stage.home()"
   ]
  },
  {
   "cell_type": "code",
   "execution_count": 34,
   "id": "af6f243a",
   "metadata": {},
   "outputs": [],
   "source": [
    "# Go to Home Position\n",
    "reset(stage=stage, pH_device=pH_device, depo_device=depo_device)\n",
    "# stage.home()"
   ]
  },
  {
   "cell_type": "code",
   "execution_count": 35,
   "id": "7f240471",
   "metadata": {},
   "outputs": [],
   "source": [
    "# Drop pH meter and raise it up (don't run if pH path is obstructed)\n",
    "pH_device.to_zpos(\"full_down\")\n",
    "pH_device.to_zpos(\"full_up\")"
   ]
  },
  {
   "cell_type": "code",
   "execution_count": 36,
   "id": "d1ac2da3",
   "metadata": {},
   "outputs": [],
   "source": [
    "# Drop deposition device and raise it up (don't run if syringe path is obstructed)\n",
    "depo_device.to_zpos(\"full_down\")\n",
    "depo_device.to_zpos(\"full_up\")"
   ]
  },
  {
   "cell_type": "markdown",
   "id": "889f50dc",
   "metadata": {},
   "source": [
    "## Test Cell Mapping and Accuracy\n",
    "Use this code to see if pH device is aligning with the cell map properly\n",
    "\n",
    "If calibrated properly with the pH sensor, \"stage\" and \"pH_device\" will move the cart to the same spot"
   ]
  },
  {
   "cell_type": "code",
   "execution_count": 16,
   "id": "51e099ef",
   "metadata": {},
   "outputs": [
    {
     "data": {
      "text/plain": [
       "(-1134, -436)"
      ]
     },
     "execution_count": 16,
     "metadata": {},
     "output_type": "execute_result"
    }
   ],
   "source": [
    "#stage.get_XYloc()"
   ]
  },
  {
   "cell_type": "code",
   "execution_count": 42,
   "id": "5648a455",
   "metadata": {},
   "outputs": [],
   "source": [
    "stage.move_to_cell(0,0)\n",
    "pH_device.to_zpos(\"full_down\")\n",
    "pH_device.to_zpos(\"full_up\")"
   ]
  },
  {
   "cell_type": "code",
   "execution_count": 41,
   "id": "e100951b",
   "metadata": {},
   "outputs": [],
   "source": [
    "stage.move_to_cell(3, 5)\n",
    "pH_device.to_zpos(\"full_down\")\n",
    "pH_device.to_zpos(\"full_up\")"
   ]
  },
  {
   "cell_type": "code",
   "execution_count": 43,
   "id": "712a638d",
   "metadata": {},
   "outputs": [],
   "source": [
    "stage.move_to_cell(3, 0)\n",
    "pH_device.to_zpos(\"full_down\")\n",
    "pH_device.to_zpos(\"full_up\")"
   ]
  },
  {
   "cell_type": "code",
   "execution_count": 44,
   "id": "359f56f8",
   "metadata": {},
   "outputs": [],
   "source": [
    "stage.move_to_cell(0, 5)\n",
    "pH_device.to_zpos(\"full_down\")\n",
    "pH_device.to_zpos(\"full_up\")"
   ]
  },
  {
   "cell_type": "code",
   "execution_count": 16,
   "id": "48f711b4",
   "metadata": {},
   "outputs": [],
   "source": [
    "stage.move_to_loc(\"clean\")\n",
    "pH_device.to_zpos(\"full_down\")\n",
    "pH_device.to_zpos(\"full_up\")"
   ]
  },
  {
   "cell_type": "markdown",
   "id": "8ae45a2f",
   "metadata": {},
   "source": [
    "## Test pH device and Syringe Functionality"
   ]
  },
  {
   "cell_type": "code",
   "execution_count": 17,
   "id": "e85276be",
   "metadata": {},
   "outputs": [
    {
     "data": {
      "text/plain": [
       "<core.pHDevice at 0x1fffff47610>"
      ]
     },
     "execution_count": 17,
     "metadata": {},
     "output_type": "execute_result"
    }
   ],
   "source": [
    "# this is the pH meter\n",
    "pH_device"
   ]
  },
  {
   "cell_type": "code",
   "execution_count": 45,
   "id": "04d35da4",
   "metadata": {},
   "outputs": [
    {
     "name": "stderr",
     "output_type": "stream",
     "text": [
      "Socket exception: An existing connection was forcibly closed by the remote host (10054)\n",
      "Socket exception: An existing connection was forcibly closed by the remote host (10054)\n",
      "Socket exception: An existing connection was forcibly closed by the remote host (10054)\n",
      "Socket exception: An existing connection was forcibly closed by the remote host (10054)\n"
     ]
    }
   ],
   "source": [
    "# the cleaning location can be used to wash off any acidic or basic solution from the probe prior to measurements\n",
    "# it is not necessary to use this in your code, but if you are getting incorrect pH values you may need to clean with DI\n",
    "pH_device.move_to_loc(\"clean\")\n",
    "pH_device.to_zpos(\"full_down\")\n",
    "pH_device.to_zpos(\"full_up\")"
   ]
  },
  {
   "cell_type": "code",
   "execution_count": 19,
   "id": "72db099e",
   "metadata": {},
   "outputs": [
    {
     "name": "stdout",
     "output_type": "stream",
     "text": [
      "pH is Measured as: 4.65\n"
     ]
    },
    {
     "data": {
      "text/plain": [
       "4.65"
      ]
     },
     "execution_count": 19,
     "metadata": {},
     "output_type": "execute_result"
    }
   ],
   "source": [
    "# this runs the pH measuring loop, where the value passed to the function is the amount of time spent in the well\n",
    "# it is suggested to measure for at least 20 seconds to let the pH measurement stabilize\n",
    "pH_device.move_to_cell(row=0, col=0)\n",
    "pH_device.pH_measure(20)"
   ]
  },
  {
   "cell_type": "code",
   "execution_count": 20,
   "id": "58dfee62",
   "metadata": {},
   "outputs": [
    {
     "data": {
      "text/plain": [
       "<core.DepositionDevice at 0x1fffff46710>"
      ]
     },
     "execution_count": 20,
     "metadata": {},
     "output_type": "execute_result"
    }
   ],
   "source": [
    "# this is the syringe\n",
    "depo_device"
   ]
  },
  {
   "cell_type": "code",
   "execution_count": 21,
   "id": "321fb879",
   "metadata": {},
   "outputs": [],
   "source": [
    "# go to acid well and test range of motion\n",
    "depo_device.move_to_loc(\"acid\")\n",
    "depo_device.to_zpos(\"full_down\")\n",
    "depo_device.to_zpos(\"full_up\")"
   ]
  },
  {
   "cell_type": "code",
   "execution_count": 22,
   "id": "ff8ee0c0",
   "metadata": {},
   "outputs": [
    {
     "data": {
      "text/plain": [
       "<core.DepositionDevice at 0x1fffff46710>"
      ]
     },
     "execution_count": 22,
     "metadata": {},
     "output_type": "execute_result"
    }
   ],
   "source": [
    "# acquire 0.5 mL from the acid reservoir\n",
    "depo_device.acquire(0.6, location=\"acid\")"
   ]
  },
  {
   "cell_type": "code",
   "execution_count": 23,
   "id": "df62be03",
   "metadata": {},
   "outputs": [
    {
     "data": {
      "text/plain": [
       "<core.DepositionDevice at 0x1fffff46710>"
      ]
     },
     "execution_count": 23,
     "metadata": {},
     "output_type": "execute_result"
    }
   ],
   "source": [
    "# deposit the 0.5 mL into the 0,0 sample well\n",
    "depo_device.deposition(0.6, row=0, col=0)"
   ]
  },
  {
   "cell_type": "markdown",
   "id": "f2f58490",
   "metadata": {},
   "source": [
    "## Example Loops\n",
    "\n",
    "Use these loops as a reference for ways to construct your autonomous experiments and the functions needed"
   ]
  },
  {
   "cell_type": "code",
   "execution_count": 24,
   "id": "7ce19af9",
   "metadata": {},
   "outputs": [
    {
     "data": {
      "text/plain": [
       "<core.DepositionDevice at 0x1fffff46710>"
      ]
     },
     "execution_count": 24,
     "metadata": {},
     "output_type": "execute_result"
    }
   ],
   "source": [
    "depo_device.acquire(0.6, location=\"acid\")\n",
    "depo_device.deposition(0.1, row=0, col=1)\n",
    "depo_device.deposition(0.2, row=0, col=2)\n",
    "depo_device.deposition(0.3, row=0, col=3)"
   ]
  },
  {
   "cell_type": "code",
   "execution_count": 25,
   "id": "e6572a96",
   "metadata": {},
   "outputs": [],
   "source": [
    "depo_device.to_zpos(\"full_up\")"
   ]
  },
  {
   "cell_type": "code",
   "execution_count": 26,
   "id": "10620312",
   "metadata": {
    "scrolled": true
   },
   "outputs": [
    {
     "name": "stdout",
     "output_type": "stream",
     "text": [
      "pH is Measured as: 4.65\n",
      "row 0 col 0 pH 4.65\n",
      "pH is Measured as: 4.66\n",
      "row 0 col 1 pH 4.66\n",
      "pH is Measured as: 4.67\n",
      "row 0 col 2 pH 4.67\n",
      "pH is Measured as: 4.67\n",
      "row 0 col 3 pH 4.67\n",
      "pH is Measured as: 4.67\n",
      "row 0 col 4 pH 4.67\n",
      "pH is Measured as: 4.68\n",
      "row 0 col 5 pH 4.68\n",
      "pH is Measured as: 4.70\n",
      "row 1 col 0 pH 4.7\n",
      "pH is Measured as: 4.70\n",
      "row 1 col 1 pH 4.7\n",
      "pH is Measured as: 4.73\n",
      "row 1 col 2 pH 4.73\n",
      "pH is Measured as: 4.73\n",
      "row 1 col 3 pH 4.73\n",
      "pH is Measured as: 4.72\n",
      "row 1 col 4 pH 4.72\n",
      "pH is Measured as: 4.73\n",
      "row 1 col 5 pH 4.73\n",
      "pH is Measured as: 4.74\n",
      "row 2 col 0 pH 4.74\n",
      "pH is Measured as: 4.75\n",
      "row 2 col 1 pH 4.75\n",
      "pH is Measured as: 4.75\n",
      "row 2 col 2 pH 4.75\n",
      "pH is Measured as: 4.76\n",
      "row 2 col 3 pH 4.76\n",
      "pH is Measured as: 4.77\n",
      "row 2 col 4 pH 4.77\n",
      "pH is Measured as: 4.78\n",
      "row 2 col 5 pH 4.78\n",
      "pH is Measured as: 4.78\n",
      "row 3 col 0 pH 4.78\n",
      "pH is Measured as: 4.78\n",
      "row 3 col 1 pH 4.78\n",
      "pH is Measured as: 4.79\n",
      "row 3 col 2 pH 4.79\n",
      "pH is Measured as: 4.81\n",
      "row 3 col 3 pH 4.81\n",
      "pH is Measured as: 4.85\n",
      "row 3 col 4 pH 4.85\n",
      "pH is Measured as: 4.87\n",
      "row 3 col 5 pH 4.87\n"
     ]
    }
   ],
   "source": [
    "for row in range(4):\n",
    "    for col in range(6):\n",
    "        depo_device.acquire(0.6, location=\"acid\")\n",
    "        depo_device.deposition(0.6, row=row, col=col)\n",
    "        pH_device.move_to_cell(row=row, col=col)\n",
    "        pH = pH_device.pH_measure(stable_time=1)\n",
    "        print(f\"row {row} col {col} pH {pH}\")"
   ]
  },
  {
   "cell_type": "code",
   "execution_count": 7,
   "id": "198f0875",
   "metadata": {},
   "outputs": [
    {
     "data": {
      "text/plain": [
       "{'full_down': 634, 'full_up': 831}"
      ]
     },
     "execution_count": 7,
     "metadata": {},
     "output_type": "execute_result"
    }
   ],
   "source": [
    "#pH_device.pH_positions"
   ]
  },
  {
   "cell_type": "code",
   "execution_count": 6,
   "id": "5e1a2a60",
   "metadata": {},
   "outputs": [
    {
     "data": {
      "text/plain": [
       "1946"
      ]
     },
     "execution_count": 6,
     "metadata": {},
     "output_type": "execute_result"
    }
   ],
   "source": [
    "#pH_device.motor_pH.get_position()"
   ]
  },
  {
   "cell_type": "code",
   "execution_count": null,
   "id": "ac85d496",
   "metadata": {},
   "outputs": [],
   "source": [
    "row = 5\n",
    "for col in range(8):\n",
    "    depo_device.acquire(0.6, location=\"acid\")\n",
    "    depo_device.deposition(0.6, row=row, col=col)\n",
    "    pH_device.move_to_cell(row=row, col=col)\n",
    "    pH = pH_device.pH_measure(stable_time=20)\n",
    "    print(f\"row {row} col {col} pH {pH}\")"
   ]
  }
 ],
 "metadata": {
  "kernelspec": {
   "display_name": "Python 3 (ipykernel)",
   "language": "python",
   "name": "python3"
  },
  "language_info": {
   "codemirror_mode": {
    "name": "ipython",
    "version": 3
   },
   "file_extension": ".py",
   "mimetype": "text/x-python",
   "name": "python",
   "nbconvert_exporter": "python",
   "pygments_lexer": "ipython3",
   "version": "3.10.6"
  },
  "vscode": {
   "interpreter": {
    "hash": "0095c6ec66f02ae1bc8a134f6078f14ee669be44a5c4ac33d7f267434e255fcc"
   }
  }
 },
 "nbformat": 4,
 "nbformat_minor": 5
}
