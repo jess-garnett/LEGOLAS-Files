{
 "cells": [
  {
   "cell_type": "markdown",
   "id": "a5e32ee6",
   "metadata": {},
   "source": [
    "# Legolas Demo Code\n",
    "\n",
    "Use this code to test your calibration values and as a reference for solving the challenges"
   ]
  },
  {
   "cell_type": "code",
   "execution_count": 1,
   "id": "81121651",
   "metadata": {},
   "outputs": [],
   "source": [
    "from core import *\n",
    "import utils"
   ]
  },
  {
   "cell_type": "code",
   "execution_count": 2,
   "id": "e261432c",
   "metadata": {},
   "outputs": [
    {
     "name": "stdout",
     "output_type": "stream",
     "text": [
      "kill server at PID:2936\n",
      "restarting the rpyc server at host: 192.168.0.6\n",
      "rpyc server start successfully\n",
      "kill server at PID:27304\n",
      "restarting the rpyc server at host: 192.168.0.7\n",
      "rpyc server start successfully\n"
     ]
    }
   ],
   "source": [
    "# this is how you reset the rpyc server when facing the port already in use\n",
    "# need to change to actual host name\n",
    "host_1 = \"192.168.0.6\"\n",
    "host_2 = \"192.168.0.7\"\n",
    "\n",
    "utils.restart_server(host=host_1)\n",
    "utils.restart_server(host=host_2)"
   ]
  },
  {
   "cell_type": "code",
   "execution_count": 3,
   "id": "f7c1a4ef",
   "metadata": {},
   "outputs": [],
   "source": [
    "stage, depo_device, pH_device, conn1, conn2, config = load_from_config(\"config.yaml\")"
   ]
  },
  {
   "cell_type": "code",
   "execution_count": 3,
   "id": "4221b088",
   "metadata": {
    "scrolled": true
   },
   "outputs": [
    {
     "ename": "AssertionError",
     "evalue": "",
     "output_type": "error",
     "traceback": [
      "\u001b[1;31m---------------------------------------------------------------------------\u001b[0m",
      "\u001b[1;31mAssertionError\u001b[0m                            Traceback (most recent call last)",
      "Input \u001b[1;32mIn [3]\u001b[0m, in \u001b[0;36m<cell line: 2>\u001b[1;34m()\u001b[0m\n\u001b[0;32m      1\u001b[0m \u001b[38;5;66;03m# it is ok if this fails, just move on to the next code block\u001b[39;00m\n\u001b[1;32m----> 2\u001b[0m \u001b[43msanity_check\u001b[49m\u001b[43m(\u001b[49m\u001b[43mstage\u001b[49m\u001b[38;5;241;43m=\u001b[39;49m\u001b[43mstage\u001b[49m\u001b[43m,\u001b[49m\u001b[43m \u001b[49m\u001b[43mpH_device\u001b[49m\u001b[38;5;241;43m=\u001b[39;49m\u001b[43mpH_device\u001b[49m\u001b[43m,\u001b[49m\u001b[43m \u001b[49m\u001b[43mdepo_device\u001b[49m\u001b[38;5;241;43m=\u001b[39;49m\u001b[43mdepo_device\u001b[49m\u001b[43m)\u001b[49m\n",
      "File \u001b[1;32m~\\Documents\\Fall 2022\\Research\\LEGOLAS Project Files\\LEGOLAS Files\\core.py:582\u001b[0m, in \u001b[0;36msanity_check\u001b[1;34m(stage, pH_device, depo_device)\u001b[0m\n\u001b[0;32m    580\u001b[0m \u001b[38;5;28;01mdef\u001b[39;00m \u001b[38;5;21msanity_check\u001b[39m(stage, pH_device, depo_device):\n\u001b[0;32m    581\u001b[0m     stage\u001b[38;5;241m.\u001b[39msanity_check()\n\u001b[1;32m--> 582\u001b[0m     \u001b[43mpH_device\u001b[49m\u001b[38;5;241;43m.\u001b[39;49m\u001b[43msanity_check\u001b[49m\u001b[43m(\u001b[49m\u001b[43m)\u001b[49m\n\u001b[0;32m    583\u001b[0m     depo_device\u001b[38;5;241m.\u001b[39msanity_check()\n\u001b[0;32m    584\u001b[0m     \u001b[38;5;28;01mreturn\u001b[39;00m \u001b[38;5;28;01mTrue\u001b[39;00m\n",
      "File \u001b[1;32m~\\Documents\\Fall 2022\\Research\\LEGOLAS Project Files\\LEGOLAS Files\\core.py:507\u001b[0m, in \u001b[0;36mpHDevice.sanity_check\u001b[1;34m(self)\u001b[0m\n\u001b[0;32m    505\u001b[0m pos \u001b[38;5;241m=\u001b[39m \u001b[38;5;28mself\u001b[39m\u001b[38;5;241m.\u001b[39mmotor_pH\u001b[38;5;241m.\u001b[39mget_position()\n\u001b[0;32m    506\u001b[0m l, m \u001b[38;5;241m=\u001b[39m \u001b[38;5;28mmin\u001b[39m(\u001b[38;5;28mself\u001b[39m\u001b[38;5;241m.\u001b[39mpH_positions[\u001b[38;5;124m\"\u001b[39m\u001b[38;5;124mfull_up\u001b[39m\u001b[38;5;124m\"\u001b[39m], \u001b[38;5;28mself\u001b[39m\u001b[38;5;241m.\u001b[39mpH_positions[\u001b[38;5;124m\"\u001b[39m\u001b[38;5;124mfull_down\u001b[39m\u001b[38;5;124m\"\u001b[39m]), \u001b[38;5;28mmax\u001b[39m(\u001b[38;5;28mself\u001b[39m\u001b[38;5;241m.\u001b[39mpH_positions[\u001b[38;5;124m\"\u001b[39m\u001b[38;5;124mfull_up\u001b[39m\u001b[38;5;124m\"\u001b[39m], \u001b[38;5;28mself\u001b[39m\u001b[38;5;241m.\u001b[39mpH_positions[\u001b[38;5;124m\"\u001b[39m\u001b[38;5;124mfull_down\u001b[39m\u001b[38;5;124m\"\u001b[39m])\n\u001b[1;32m--> 507\u001b[0m \u001b[38;5;28;01massert\u001b[39;00m  l \u001b[38;5;241m<\u001b[39m\u001b[38;5;241m=\u001b[39m pos \u001b[38;5;129;01mand\u001b[39;00m pos \u001b[38;5;241m<\u001b[39m\u001b[38;5;241m=\u001b[39m m\n",
      "\u001b[1;31mAssertionError\u001b[0m: "
     ]
    }
   ],
   "source": [
    "# it is ok if this fails, just move on to the next code block\n",
    "sanity_check(stage=stage, pH_device=pH_device, depo_device=depo_device)"
   ]
  },
  {
   "cell_type": "code",
   "execution_count": null,
   "id": "8e64d969",
   "metadata": {},
   "outputs": [],
   "source": [
    "# find the usb port if problem occur\n",
    "list_ports = conn1.modules['serial.tools.list_ports']\n",
    "\n",
    "ports=list_ports.comports()\n",
    "for port, desc, hwid in sorted(ports):\n",
    "    print(port, desc, hwid)"
   ]
  },
  {
   "cell_type": "markdown",
   "id": "807dfbd3",
   "metadata": {},
   "source": [
    "## Test Device Functionality"
   ]
  },
  {
   "cell_type": "code",
   "execution_count": 5,
   "id": "66b54d9c",
   "metadata": {},
   "outputs": [
    {
     "data": {
      "text/plain": [
       "(195, 644)"
      ]
     },
     "execution_count": 5,
     "metadata": {},
     "output_type": "execute_result"
    }
   ],
   "source": [
    "stage.home()"
   ]
  },
  {
   "cell_type": "code",
   "execution_count": 4,
   "id": "af6f243a",
   "metadata": {},
   "outputs": [
    {
     "ename": "KeyError",
     "evalue": "'full_up'",
     "output_type": "error",
     "traceback": [
      "\u001b[1;31m---------------------------------------------------------------------------\u001b[0m",
      "\u001b[1;31mKeyError\u001b[0m                                  Traceback (most recent call last)",
      "\u001b[1;32m<ipython-input-4-542e56c4f0e7>\u001b[0m in \u001b[0;36m<module>\u001b[1;34m\u001b[0m\n\u001b[0;32m      1\u001b[0m \u001b[1;31m# Go to Home Position\u001b[0m\u001b[1;33m\u001b[0m\u001b[1;33m\u001b[0m\u001b[1;33m\u001b[0m\u001b[0m\n\u001b[1;32m----> 2\u001b[1;33m \u001b[0mreset\u001b[0m\u001b[1;33m(\u001b[0m\u001b[0mstage\u001b[0m\u001b[1;33m=\u001b[0m\u001b[0mstage\u001b[0m\u001b[1;33m,\u001b[0m \u001b[0mpH_device\u001b[0m\u001b[1;33m=\u001b[0m\u001b[0mpH_device\u001b[0m\u001b[1;33m,\u001b[0m \u001b[0mdepo_device\u001b[0m\u001b[1;33m=\u001b[0m\u001b[0mdepo_device\u001b[0m\u001b[1;33m)\u001b[0m\u001b[1;33m\u001b[0m\u001b[1;33m\u001b[0m\u001b[0m\n\u001b[0m\u001b[0;32m      3\u001b[0m \u001b[1;31m# stage.home()\u001b[0m\u001b[1;33m\u001b[0m\u001b[1;33m\u001b[0m\u001b[1;33m\u001b[0m\u001b[0m\n",
      "\u001b[1;32mc:\\Users\\auror\\OneDrive\\Documents\\GitHub\\LEGOLAS-Files\\Code\\LEGOLAS Scripts\\core.py\u001b[0m in \u001b[0;36mreset\u001b[1;34m(stage, pH_device, depo_device)\u001b[0m\n\u001b[0;32m    602\u001b[0m \u001b[1;33m\u001b[0m\u001b[0m\n\u001b[0;32m    603\u001b[0m \u001b[1;32mdef\u001b[0m \u001b[0mreset\u001b[0m\u001b[1;33m(\u001b[0m\u001b[0mstage\u001b[0m\u001b[1;33m,\u001b[0m \u001b[0mpH_device\u001b[0m\u001b[1;33m,\u001b[0m \u001b[0mdepo_device\u001b[0m\u001b[1;33m)\u001b[0m\u001b[1;33m:\u001b[0m\u001b[1;33m\u001b[0m\u001b[1;33m\u001b[0m\u001b[0m\n\u001b[1;32m--> 604\u001b[1;33m     \u001b[0mpH_device\u001b[0m\u001b[1;33m.\u001b[0m\u001b[0mto_zpos\u001b[0m\u001b[1;33m(\u001b[0m\u001b[1;34m\"full_up\"\u001b[0m\u001b[1;33m)\u001b[0m\u001b[1;33m\u001b[0m\u001b[1;33m\u001b[0m\u001b[0m\n\u001b[0m\u001b[0;32m    605\u001b[0m     \u001b[0mdepo_device\u001b[0m\u001b[1;33m.\u001b[0m\u001b[0mto_zpos\u001b[0m\u001b[1;33m(\u001b[0m\u001b[1;34m\"full_up\"\u001b[0m\u001b[1;33m)\u001b[0m\u001b[1;33m\u001b[0m\u001b[1;33m\u001b[0m\u001b[0m\n\u001b[0;32m    606\u001b[0m     \u001b[0mstage\u001b[0m\u001b[1;33m.\u001b[0m\u001b[0mhome\u001b[0m\u001b[1;33m(\u001b[0m\u001b[1;33m)\u001b[0m\u001b[1;33m\u001b[0m\u001b[1;33m\u001b[0m\u001b[0m\n",
      "\u001b[1;32mc:\\Users\\auror\\OneDrive\\Documents\\GitHub\\LEGOLAS-Files\\Code\\LEGOLAS Scripts\\core.py\u001b[0m in \u001b[0;36mto_zpos\u001b[1;34m(self, pos, max_iter)\u001b[0m\n\u001b[0;32m    531\u001b[0m \u001b[1;33m\u001b[0m\u001b[0m\n\u001b[0;32m    532\u001b[0m     \u001b[1;32mdef\u001b[0m \u001b[0mto_zpos\u001b[0m\u001b[1;33m(\u001b[0m\u001b[0mself\u001b[0m\u001b[1;33m,\u001b[0m \u001b[0mpos\u001b[0m\u001b[1;33m,\u001b[0m \u001b[0mmax_iter\u001b[0m\u001b[1;33m=\u001b[0m\u001b[1;36m4\u001b[0m\u001b[1;33m)\u001b[0m\u001b[1;33m:\u001b[0m\u001b[1;33m\u001b[0m\u001b[1;33m\u001b[0m\u001b[0m\n\u001b[1;32m--> 533\u001b[1;33m         \u001b[0mpos\u001b[0m \u001b[1;33m=\u001b[0m \u001b[0mself\u001b[0m\u001b[1;33m.\u001b[0m\u001b[0mpH_positions\u001b[0m\u001b[1;33m[\u001b[0m\u001b[0mpos\u001b[0m\u001b[1;33m]\u001b[0m\u001b[1;33m\u001b[0m\u001b[1;33m\u001b[0m\u001b[0m\n\u001b[0m\u001b[0;32m    534\u001b[0m         motor_move_to_pos(\n\u001b[0;32m    535\u001b[0m             \u001b[0mmotor\u001b[0m\u001b[1;33m=\u001b[0m\u001b[0mself\u001b[0m\u001b[1;33m.\u001b[0m\u001b[0mmotor_pH\u001b[0m\u001b[1;33m,\u001b[0m\u001b[1;33m\u001b[0m\u001b[1;33m\u001b[0m\u001b[0m\n",
      "\u001b[1;31mKeyError\u001b[0m: 'full_up'"
     ]
    }
   ],
   "source": [
    "# Go to Home Position\n",
    "reset(stage=stage, pH_device=pH_device, depo_device=depo_device)\n",
    "# stage.home()"
   ]
  },
  {
   "cell_type": "code",
   "execution_count": 5,
   "id": "7f240471",
   "metadata": {},
   "outputs": [],
   "source": [
    "# Drop pH meter and raise it up (don't run if pH path is obstructed)\n",
    "pH_device.to_zpos(\"full_down\")\n",
    "pH_device.to_zpos(\"full_up\")"
   ]
  },
  {
   "cell_type": "code",
   "execution_count": 6,
   "id": "d1ac2da3",
   "metadata": {},
   "outputs": [],
   "source": [
    "# Drop deposition device and raise it up (don't run if syringe path is obstructed)\n",
    "depo_device.to_zpos(\"full_down\")\n",
    "depo_device.to_zpos(\"full_up\")"
   ]
  },
  {
   "cell_type": "markdown",
   "id": "889f50dc",
   "metadata": {},
   "source": [
    "## Test Cell Mapping and Accuracy\n",
    "Use this code to see if pH device is aligning with the cell map properly\n",
    "\n",
    "If calibrated properly with the pH sensor, \"stage\" and \"pH_device\" will move the cart to the same spot"
   ]
  },
  {
   "cell_type": "code",
   "execution_count": 16,
   "id": "51e099ef",
   "metadata": {},
   "outputs": [
    {
     "data": {
      "text/plain": [
       "(-1134, -436)"
      ]
     },
     "execution_count": 16,
     "metadata": {},
     "output_type": "execute_result"
    }
   ],
   "source": [
    "#stage.get_XYloc()"
   ]
  },
  {
   "cell_type": "code",
   "execution_count": 7,
   "id": "5648a455",
   "metadata": {},
   "outputs": [],
   "source": [
    "stage.move_to_cell(0,0)\n",
    "pH_device.to_zpos(\"full_down\")\n",
    "pH_device.to_zpos(\"full_up\")"
   ]
  },
  {
   "cell_type": "code",
   "execution_count": 12,
   "id": "e100951b",
   "metadata": {},
   "outputs": [],
   "source": [
    "stage.move_to_cell(3, 5)\n",
    "pH_device.to_zpos(\"full_down\")\n",
    "pH_device.to_zpos(\"full_up\")"
   ]
  },
  {
   "cell_type": "code",
   "execution_count": 13,
   "id": "712a638d",
   "metadata": {},
   "outputs": [],
   "source": [
    "stage.move_to_cell(3, 0)\n",
    "pH_device.to_zpos(\"full_down\")\n",
    "pH_device.to_zpos(\"full_up\")"
   ]
  },
  {
   "cell_type": "code",
   "execution_count": 14,
   "id": "359f56f8",
   "metadata": {},
   "outputs": [],
   "source": [
    "stage.move_to_cell(0, 5)\n",
    "pH_device.to_zpos(\"full_down\")\n",
    "pH_device.to_zpos(\"full_up\")"
   ]
  },
  {
   "cell_type": "code",
   "execution_count": 15,
   "id": "48f711b4",
   "metadata": {},
   "outputs": [],
   "source": [
    "stage.move_to_loc(\"clean\")\n",
    "pH_device.to_zpos(\"full_down\")\n",
    "pH_device.to_zpos(\"full_up\")"
   ]
  },
  {
   "cell_type": "markdown",
   "id": "8ae45a2f",
   "metadata": {},
   "source": [
    "## Test pH device and Syringe Functionality"
   ]
  },
  {
   "cell_type": "code",
   "execution_count": 17,
   "id": "e85276be",
   "metadata": {},
   "outputs": [
    {
     "data": {
      "text/plain": [
       "<core.pHDevice at 0x15f9b8307c0>"
      ]
     },
     "execution_count": 17,
     "metadata": {},
     "output_type": "execute_result"
    }
   ],
   "source": [
    "# this is the pH meter\n",
    "pH_device"
   ]
  },
  {
   "cell_type": "code",
   "execution_count": 4,
   "id": "04d35da4",
   "metadata": {},
   "outputs": [],
   "source": [
    "# the cleaning location can be used to wash off any acidic or basic solution from the probe prior to measurements\n",
    "# it is not necessary to use this in your code, but if you are getting incorrect pH values you may need to clean with DI\n",
    "pH_device.move_to_loc(\"clean\")\n",
    "pH_device.to_zpos(\"full_down\")\n",
    "pH_device.to_zpos(\"full_up\")"
   ]
  },
  {
   "cell_type": "code",
   "execution_count": 22,
   "id": "72db099e",
   "metadata": {},
   "outputs": [
    {
     "name": "stdout",
     "output_type": "stream",
     "text": [
      "pH is Measured as: 3.78\n"
     ]
    },
    {
     "data": {
      "text/plain": [
       "3.78"
      ]
     },
     "execution_count": 22,
     "metadata": {},
     "output_type": "execute_result"
    }
   ],
   "source": [
    "# this runs the pH measuring loop, where the value passed to the function is the amount of time spent in the well\n",
    "# it is suggested to measure for at least 20 seconds to let the pH measurement stabilize\n",
    "pH_device.move_to_cell(row=0, col=0)\n",
    "pH_device.pH_measure(20)"
   ]
  },
  {
   "cell_type": "code",
   "execution_count": 4,
   "id": "58dfee62",
   "metadata": {},
   "outputs": [
    {
     "data": {
      "text/plain": [
       "<core.DepositionDevice at 0x1f0fc009a60>"
      ]
     },
     "execution_count": 4,
     "metadata": {},
     "output_type": "execute_result"
    }
   ],
   "source": [
    "# this is the syringe\n",
    "depo_device"
   ]
  },
  {
   "cell_type": "code",
   "execution_count": 6,
   "id": "321fb879",
   "metadata": {},
   "outputs": [],
   "source": [
    "# go to acid well and test range of motion\n",
    "depo_device.move_to_loc(\"acid\")\n",
    "depo_device.to_zpos(\"full_down\")\n",
    "depo_device.to_zpos(\"full_up\")"
   ]
  },
  {
   "cell_type": "code",
   "execution_count": 5,
   "id": "ff8ee0c0",
   "metadata": {},
   "outputs": [
    {
     "ename": "TimeoutError",
     "evalue": "result expired",
     "output_type": "error",
     "traceback": [
      "\u001b[1;31m---------------------------------------------------------------------------\u001b[0m",
      "\u001b[1;31mTimeoutError\u001b[0m                              Traceback (most recent call last)",
      "Input \u001b[1;32mIn [5]\u001b[0m, in \u001b[0;36m<cell line: 2>\u001b[1;34m()\u001b[0m\n\u001b[0;32m      1\u001b[0m \u001b[38;5;66;03m# acquire 0.5 mL from the acid reservoir\u001b[39;00m\n\u001b[1;32m----> 2\u001b[0m \u001b[43mdepo_device\u001b[49m\u001b[38;5;241;43m.\u001b[39;49m\u001b[43macquire\u001b[49m\u001b[43m(\u001b[49m\u001b[38;5;241;43m0.6\u001b[39;49m\u001b[43m,\u001b[49m\u001b[43m \u001b[49m\u001b[43mlocation\u001b[49m\u001b[38;5;241;43m=\u001b[39;49m\u001b[38;5;124;43m\"\u001b[39;49m\u001b[38;5;124;43macid\u001b[39;49m\u001b[38;5;124;43m\"\u001b[39;49m\u001b[43m)\u001b[49m\n",
      "File \u001b[1;32m~\\Documents\\Fall 2022\\Research\\LEGOLAS Project Files\\LEGOLAS Files\\core.py:426\u001b[0m, in \u001b[0;36mDepositionDevice.acquire\u001b[1;34m(self, vol, acq_degree, location, row, col, x_degree, y_degree)\u001b[0m\n\u001b[0;32m    414\u001b[0m \u001b[38;5;66;03m# if location is not None:\u001b[39;00m\n\u001b[0;32m    415\u001b[0m \u001b[38;5;66;03m#     self.move_to_loc(location)\u001b[39;00m\n\u001b[0;32m    416\u001b[0m \u001b[38;5;66;03m# elif row is not None and col is not None:\u001b[39;00m\n\u001b[1;32m   (...)\u001b[0m\n\u001b[0;32m    422\u001b[0m     \n\u001b[0;32m    423\u001b[0m \u001b[38;5;66;03m# self.motor_S.run_for_degrees(-self.s_full_down)\u001b[39;00m\n\u001b[0;32m    424\u001b[0m \u001b[38;5;28mself\u001b[39m\u001b[38;5;241m.\u001b[39mto_zpos(\u001b[38;5;124m\"\u001b[39m\u001b[38;5;124mfull_down\u001b[39m\u001b[38;5;124m\"\u001b[39m)\n\u001b[1;32m--> 426\u001b[0m \u001b[38;5;28;43mself\u001b[39;49m\u001b[38;5;241;43m.\u001b[39;49m\u001b[43mmotor_V\u001b[49m\u001b[38;5;241;43m.\u001b[39;49m\u001b[43mrun_for_degrees\u001b[49m\u001b[43m(\u001b[49m\u001b[43macq_degree\u001b[49m\u001b[43m)\u001b[49m\n\u001b[0;32m    427\u001b[0m \u001b[38;5;28mself\u001b[39m\u001b[38;5;241m.\u001b[39mvolume \u001b[38;5;241m+\u001b[39m\u001b[38;5;241m=\u001b[39m vol\n\u001b[0;32m    429\u001b[0m \u001b[38;5;28mself\u001b[39m\u001b[38;5;241m.\u001b[39mto_zpos(\u001b[38;5;124m\"\u001b[39m\u001b[38;5;124mfull_up\u001b[39m\u001b[38;5;124m\"\u001b[39m)\n",
      "File \u001b[1;32m~\\anaconda3\\lib\\site-packages\\rpyc\\core\\netref.py:240\u001b[0m, in \u001b[0;36m_make_method.<locals>.__call__\u001b[1;34m(_self, *args, **kwargs)\u001b[0m\n\u001b[0;32m    238\u001b[0m \u001b[38;5;28;01mdef\u001b[39;00m \u001b[38;5;21m__call__\u001b[39m(_self, \u001b[38;5;241m*\u001b[39margs, \u001b[38;5;241m*\u001b[39m\u001b[38;5;241m*\u001b[39mkwargs):\n\u001b[0;32m    239\u001b[0m     kwargs \u001b[38;5;241m=\u001b[39m \u001b[38;5;28mtuple\u001b[39m(kwargs\u001b[38;5;241m.\u001b[39mitems())\n\u001b[1;32m--> 240\u001b[0m     \u001b[38;5;28;01mreturn\u001b[39;00m \u001b[43msyncreq\u001b[49m\u001b[43m(\u001b[49m\u001b[43m_self\u001b[49m\u001b[43m,\u001b[49m\u001b[43m \u001b[49m\u001b[43mconsts\u001b[49m\u001b[38;5;241;43m.\u001b[39;49m\u001b[43mHANDLE_CALL\u001b[49m\u001b[43m,\u001b[49m\u001b[43m \u001b[49m\u001b[43margs\u001b[49m\u001b[43m,\u001b[49m\u001b[43m \u001b[49m\u001b[43mkwargs\u001b[49m\u001b[43m)\u001b[49m\n",
      "File \u001b[1;32m~\\anaconda3\\lib\\site-packages\\rpyc\\core\\netref.py:63\u001b[0m, in \u001b[0;36msyncreq\u001b[1;34m(proxy, handler, *args)\u001b[0m\n\u001b[0;32m     51\u001b[0m \u001b[38;5;124;03m\"\"\"Performs a synchronous request on the given proxy object.\u001b[39;00m\n\u001b[0;32m     52\u001b[0m \u001b[38;5;124;03mNot intended to be invoked directly.\u001b[39;00m\n\u001b[0;32m     53\u001b[0m \n\u001b[1;32m   (...)\u001b[0m\n\u001b[0;32m     60\u001b[0m \u001b[38;5;124;03m:returns: the result of the operation\u001b[39;00m\n\u001b[0;32m     61\u001b[0m \u001b[38;5;124;03m\"\"\"\u001b[39;00m\n\u001b[0;32m     62\u001b[0m conn \u001b[38;5;241m=\u001b[39m \u001b[38;5;28mobject\u001b[39m\u001b[38;5;241m.\u001b[39m\u001b[38;5;21m__getattribute__\u001b[39m(proxy, \u001b[38;5;124m\"\u001b[39m\u001b[38;5;124m____conn__\u001b[39m\u001b[38;5;124m\"\u001b[39m)\n\u001b[1;32m---> 63\u001b[0m \u001b[38;5;28;01mreturn\u001b[39;00m \u001b[43mconn\u001b[49m\u001b[38;5;241;43m.\u001b[39;49m\u001b[43msync_request\u001b[49m\u001b[43m(\u001b[49m\u001b[43mhandler\u001b[49m\u001b[43m,\u001b[49m\u001b[43m \u001b[49m\u001b[43mproxy\u001b[49m\u001b[43m,\u001b[49m\u001b[43m \u001b[49m\u001b[38;5;241;43m*\u001b[39;49m\u001b[43margs\u001b[49m\u001b[43m)\u001b[49m\n",
      "File \u001b[1;32m~\\anaconda3\\lib\\site-packages\\rpyc\\core\\protocol.py:490\u001b[0m, in \u001b[0;36mConnection.sync_request\u001b[1;34m(self, handler, *args)\u001b[0m\n\u001b[0;32m    487\u001b[0m _async_res \u001b[38;5;241m=\u001b[39m \u001b[38;5;28mself\u001b[39m\u001b[38;5;241m.\u001b[39masync_request(handler, \u001b[38;5;241m*\u001b[39margs, timeout\u001b[38;5;241m=\u001b[39mtimeout)\n\u001b[0;32m    488\u001b[0m \u001b[38;5;66;03m# _async_res is an instance of AsyncResult, the value property invokes Connection.serve via AsyncResult.wait\u001b[39;00m\n\u001b[0;32m    489\u001b[0m \u001b[38;5;66;03m# So, the _recvlock can be acquired multiple times by the owning thread and warrants the use of RLock\u001b[39;00m\n\u001b[1;32m--> 490\u001b[0m \u001b[38;5;28;01mreturn\u001b[39;00m \u001b[43m_async_res\u001b[49m\u001b[38;5;241;43m.\u001b[39;49m\u001b[43mvalue\u001b[49m\n",
      "File \u001b[1;32m~\\anaconda3\\lib\\site-packages\\rpyc\\core\\async_.py:106\u001b[0m, in \u001b[0;36mAsyncResult.value\u001b[1;34m(self)\u001b[0m\n\u001b[0;32m     98\u001b[0m \u001b[38;5;129m@property\u001b[39m\n\u001b[0;32m     99\u001b[0m \u001b[38;5;28;01mdef\u001b[39;00m \u001b[38;5;21mvalue\u001b[39m(\u001b[38;5;28mself\u001b[39m):\n\u001b[0;32m    100\u001b[0m     \u001b[38;5;124;03m\"\"\"Returns the result of the operation. If the result has not yet\u001b[39;00m\n\u001b[0;32m    101\u001b[0m \u001b[38;5;124;03m    arrived, accessing this property will wait for it. If the result does\u001b[39;00m\n\u001b[0;32m    102\u001b[0m \u001b[38;5;124;03m    not arrive before the expiry time elapses, :class:`AsyncResultTimeout`\u001b[39;00m\n\u001b[0;32m    103\u001b[0m \u001b[38;5;124;03m    is raised. If the returned result is an exception, it will be raised\u001b[39;00m\n\u001b[0;32m    104\u001b[0m \u001b[38;5;124;03m    here. Otherwise, the result is returned directly.\u001b[39;00m\n\u001b[0;32m    105\u001b[0m \u001b[38;5;124;03m    \"\"\"\u001b[39;00m\n\u001b[1;32m--> 106\u001b[0m     \u001b[38;5;28;43mself\u001b[39;49m\u001b[38;5;241;43m.\u001b[39;49m\u001b[43mwait\u001b[49m\u001b[43m(\u001b[49m\u001b[43m)\u001b[49m\n\u001b[0;32m    107\u001b[0m     \u001b[38;5;28;01mif\u001b[39;00m \u001b[38;5;28mself\u001b[39m\u001b[38;5;241m.\u001b[39m_is_exc:\n\u001b[0;32m    108\u001b[0m         \u001b[38;5;28;01mraise\u001b[39;00m \u001b[38;5;28mself\u001b[39m\u001b[38;5;241m.\u001b[39m_obj\n",
      "File \u001b[1;32m~\\anaconda3\\lib\\site-packages\\rpyc\\core\\async_.py:55\u001b[0m, in \u001b[0;36mAsyncResult.wait\u001b[1;34m(self)\u001b[0m\n\u001b[0;32m     53\u001b[0m \u001b[38;5;66;03m# Check if we timed out before result was ready\u001b[39;00m\n\u001b[0;32m     54\u001b[0m \u001b[38;5;28;01mif\u001b[39;00m \u001b[38;5;129;01mnot\u001b[39;00m \u001b[38;5;28mself\u001b[39m\u001b[38;5;241m.\u001b[39m_is_ready:\n\u001b[1;32m---> 55\u001b[0m     \u001b[38;5;28;01mraise\u001b[39;00m AsyncResultTimeout(\u001b[38;5;124m\"\u001b[39m\u001b[38;5;124mresult expired\u001b[39m\u001b[38;5;124m\"\u001b[39m)\n",
      "\u001b[1;31mTimeoutError\u001b[0m: result expired"
     ]
    }
   ],
   "source": [
    "# acquire 0.5 mL from the acid reservoir\n",
    "depo_device.acquire(0.6, location=\"acid\")"
   ]
  },
  {
   "cell_type": "code",
   "execution_count": 27,
   "id": "df62be03",
   "metadata": {},
   "outputs": [
    {
     "data": {
      "text/plain": [
       "<core.DepositionDevice at 0x15f9b82aac0>"
      ]
     },
     "execution_count": 27,
     "metadata": {},
     "output_type": "execute_result"
    }
   ],
   "source": [
    "# deposit the 0.5 mL into the 0,0 sample well\n",
    "depo_device.deposition(0.6, row=0, col=0)"
   ]
  },
  {
   "cell_type": "markdown",
   "id": "f2f58490",
   "metadata": {},
   "source": [
    "## Example Loops\n",
    "\n",
    "Use these loops as a reference for ways to construct your autonomous experiments and the functions needed"
   ]
  },
  {
   "cell_type": "code",
   "execution_count": 28,
   "id": "7ce19af9",
   "metadata": {},
   "outputs": [
    {
     "data": {
      "text/plain": [
       "<core.DepositionDevice at 0x15f9b82aac0>"
      ]
     },
     "execution_count": 28,
     "metadata": {},
     "output_type": "execute_result"
    }
   ],
   "source": [
    "depo_device.acquire(0.6, location=\"acid\")\n",
    "depo_device.deposition(0.1, row=0, col=1)\n",
    "depo_device.deposition(0.2, row=0, col=2)\n",
    "depo_device.deposition(0.3, row=0, col=3)"
   ]
  },
  {
   "cell_type": "code",
   "execution_count": 9,
   "id": "e6572a96",
   "metadata": {},
   "outputs": [
    {
     "ename": "TimeoutError",
     "evalue": "result expired",
     "output_type": "error",
     "traceback": [
      "\u001b[1;31m---------------------------------------------------------------------------\u001b[0m",
      "\u001b[1;31mTimeoutError\u001b[0m                              Traceback (most recent call last)",
      "Input \u001b[1;32mIn [9]\u001b[0m, in \u001b[0;36m<cell line: 1>\u001b[1;34m()\u001b[0m\n\u001b[1;32m----> 1\u001b[0m \u001b[43mdepo_device\u001b[49m\u001b[38;5;241;43m.\u001b[39;49m\u001b[43mto_zpos\u001b[49m\u001b[43m(\u001b[49m\u001b[38;5;124;43m\"\u001b[39;49m\u001b[38;5;124;43mfull_up\u001b[39;49m\u001b[38;5;124;43m\"\u001b[39;49m\u001b[43m)\u001b[49m\n",
      "File \u001b[1;32m~\\Documents\\Fall 2022\\Research\\LEGOLAS Project Files\\LEGOLAS Files\\core.py:391\u001b[0m, in \u001b[0;36mDepositionDevice.to_zpos\u001b[1;34m(self, pos, max_iter)\u001b[0m\n\u001b[0;32m    389\u001b[0m \u001b[38;5;28;01mdef\u001b[39;00m \u001b[38;5;21mto_zpos\u001b[39m(\u001b[38;5;28mself\u001b[39m, pos, max_iter\u001b[38;5;241m=\u001b[39m\u001b[38;5;241m4\u001b[39m):\n\u001b[0;32m    390\u001b[0m     pos \u001b[38;5;241m=\u001b[39m \u001b[38;5;28mself\u001b[39m\u001b[38;5;241m.\u001b[39ms_positions[pos]\n\u001b[1;32m--> 391\u001b[0m     curr_pos \u001b[38;5;241m=\u001b[39m \u001b[38;5;28;43mself\u001b[39;49m\u001b[38;5;241;43m.\u001b[39;49m\u001b[43mmotor_S\u001b[49m\u001b[38;5;241;43m.\u001b[39;49m\u001b[43mget_position\u001b[49m()\n\u001b[0;32m    392\u001b[0m     n \u001b[38;5;241m=\u001b[39m \u001b[38;5;241m0\u001b[39m\n\u001b[0;32m    393\u001b[0m     \u001b[38;5;28;01mwhile\u001b[39;00m pos \u001b[38;5;241m!=\u001b[39m curr_pos \u001b[38;5;129;01mand\u001b[39;00m n \u001b[38;5;241m<\u001b[39m max_iter:\n",
      "File \u001b[1;32m~\\anaconda3\\lib\\site-packages\\rpyc\\core\\netref.py:148\u001b[0m, in \u001b[0;36mBaseNetref.__getattribute__\u001b[1;34m(self, name)\u001b[0m\n\u001b[0;32m    146\u001b[0m     \u001b[38;5;28;01mreturn\u001b[39;00m \u001b[38;5;28mobject\u001b[39m\u001b[38;5;241m.\u001b[39m\u001b[38;5;21m__getattribute__\u001b[39m(\u001b[38;5;28mself\u001b[39m, \u001b[38;5;124m\"\u001b[39m\u001b[38;5;124m__array__\u001b[39m\u001b[38;5;124m\"\u001b[39m)\n\u001b[0;32m    147\u001b[0m \u001b[38;5;28;01melse\u001b[39;00m:\n\u001b[1;32m--> 148\u001b[0m     \u001b[38;5;28;01mreturn\u001b[39;00m \u001b[43msyncreq\u001b[49m\u001b[43m(\u001b[49m\u001b[38;5;28;43mself\u001b[39;49m\u001b[43m,\u001b[49m\u001b[43m \u001b[49m\u001b[43mconsts\u001b[49m\u001b[38;5;241;43m.\u001b[39;49m\u001b[43mHANDLE_GETATTR\u001b[49m\u001b[43m,\u001b[49m\u001b[43m \u001b[49m\u001b[43mname\u001b[49m\u001b[43m)\u001b[49m\n",
      "File \u001b[1;32m~\\anaconda3\\lib\\site-packages\\rpyc\\core\\netref.py:63\u001b[0m, in \u001b[0;36msyncreq\u001b[1;34m(proxy, handler, *args)\u001b[0m\n\u001b[0;32m     51\u001b[0m \u001b[38;5;124;03m\"\"\"Performs a synchronous request on the given proxy object.\u001b[39;00m\n\u001b[0;32m     52\u001b[0m \u001b[38;5;124;03mNot intended to be invoked directly.\u001b[39;00m\n\u001b[0;32m     53\u001b[0m \n\u001b[1;32m   (...)\u001b[0m\n\u001b[0;32m     60\u001b[0m \u001b[38;5;124;03m:returns: the result of the operation\u001b[39;00m\n\u001b[0;32m     61\u001b[0m \u001b[38;5;124;03m\"\"\"\u001b[39;00m\n\u001b[0;32m     62\u001b[0m conn \u001b[38;5;241m=\u001b[39m \u001b[38;5;28mobject\u001b[39m\u001b[38;5;241m.\u001b[39m\u001b[38;5;21m__getattribute__\u001b[39m(proxy, \u001b[38;5;124m\"\u001b[39m\u001b[38;5;124m____conn__\u001b[39m\u001b[38;5;124m\"\u001b[39m)\n\u001b[1;32m---> 63\u001b[0m \u001b[38;5;28;01mreturn\u001b[39;00m \u001b[43mconn\u001b[49m\u001b[38;5;241;43m.\u001b[39;49m\u001b[43msync_request\u001b[49m\u001b[43m(\u001b[49m\u001b[43mhandler\u001b[49m\u001b[43m,\u001b[49m\u001b[43m \u001b[49m\u001b[43mproxy\u001b[49m\u001b[43m,\u001b[49m\u001b[43m \u001b[49m\u001b[38;5;241;43m*\u001b[39;49m\u001b[43margs\u001b[49m\u001b[43m)\u001b[49m\n",
      "File \u001b[1;32m~\\anaconda3\\lib\\site-packages\\rpyc\\core\\protocol.py:490\u001b[0m, in \u001b[0;36mConnection.sync_request\u001b[1;34m(self, handler, *args)\u001b[0m\n\u001b[0;32m    487\u001b[0m _async_res \u001b[38;5;241m=\u001b[39m \u001b[38;5;28mself\u001b[39m\u001b[38;5;241m.\u001b[39masync_request(handler, \u001b[38;5;241m*\u001b[39margs, timeout\u001b[38;5;241m=\u001b[39mtimeout)\n\u001b[0;32m    488\u001b[0m \u001b[38;5;66;03m# _async_res is an instance of AsyncResult, the value property invokes Connection.serve via AsyncResult.wait\u001b[39;00m\n\u001b[0;32m    489\u001b[0m \u001b[38;5;66;03m# So, the _recvlock can be acquired multiple times by the owning thread and warrants the use of RLock\u001b[39;00m\n\u001b[1;32m--> 490\u001b[0m \u001b[38;5;28;01mreturn\u001b[39;00m \u001b[43m_async_res\u001b[49m\u001b[38;5;241;43m.\u001b[39;49m\u001b[43mvalue\u001b[49m\n",
      "File \u001b[1;32m~\\anaconda3\\lib\\site-packages\\rpyc\\core\\async_.py:106\u001b[0m, in \u001b[0;36mAsyncResult.value\u001b[1;34m(self)\u001b[0m\n\u001b[0;32m     98\u001b[0m \u001b[38;5;129m@property\u001b[39m\n\u001b[0;32m     99\u001b[0m \u001b[38;5;28;01mdef\u001b[39;00m \u001b[38;5;21mvalue\u001b[39m(\u001b[38;5;28mself\u001b[39m):\n\u001b[0;32m    100\u001b[0m     \u001b[38;5;124;03m\"\"\"Returns the result of the operation. If the result has not yet\u001b[39;00m\n\u001b[0;32m    101\u001b[0m \u001b[38;5;124;03m    arrived, accessing this property will wait for it. If the result does\u001b[39;00m\n\u001b[0;32m    102\u001b[0m \u001b[38;5;124;03m    not arrive before the expiry time elapses, :class:`AsyncResultTimeout`\u001b[39;00m\n\u001b[0;32m    103\u001b[0m \u001b[38;5;124;03m    is raised. If the returned result is an exception, it will be raised\u001b[39;00m\n\u001b[0;32m    104\u001b[0m \u001b[38;5;124;03m    here. Otherwise, the result is returned directly.\u001b[39;00m\n\u001b[0;32m    105\u001b[0m \u001b[38;5;124;03m    \"\"\"\u001b[39;00m\n\u001b[1;32m--> 106\u001b[0m     \u001b[38;5;28;43mself\u001b[39;49m\u001b[38;5;241;43m.\u001b[39;49m\u001b[43mwait\u001b[49m\u001b[43m(\u001b[49m\u001b[43m)\u001b[49m\n\u001b[0;32m    107\u001b[0m     \u001b[38;5;28;01mif\u001b[39;00m \u001b[38;5;28mself\u001b[39m\u001b[38;5;241m.\u001b[39m_is_exc:\n\u001b[0;32m    108\u001b[0m         \u001b[38;5;28;01mraise\u001b[39;00m \u001b[38;5;28mself\u001b[39m\u001b[38;5;241m.\u001b[39m_obj\n",
      "File \u001b[1;32m~\\anaconda3\\lib\\site-packages\\rpyc\\core\\async_.py:55\u001b[0m, in \u001b[0;36mAsyncResult.wait\u001b[1;34m(self)\u001b[0m\n\u001b[0;32m     53\u001b[0m \u001b[38;5;66;03m# Check if we timed out before result was ready\u001b[39;00m\n\u001b[0;32m     54\u001b[0m \u001b[38;5;28;01mif\u001b[39;00m \u001b[38;5;129;01mnot\u001b[39;00m \u001b[38;5;28mself\u001b[39m\u001b[38;5;241m.\u001b[39m_is_ready:\n\u001b[1;32m---> 55\u001b[0m     \u001b[38;5;28;01mraise\u001b[39;00m AsyncResultTimeout(\u001b[38;5;124m\"\u001b[39m\u001b[38;5;124mresult expired\u001b[39m\u001b[38;5;124m\"\u001b[39m)\n",
      "\u001b[1;31mTimeoutError\u001b[0m: result expired"
     ]
    }
   ],
   "source": [
    "depo_device.to_zpos(\"full_up\")"
   ]
  },
  {
   "cell_type": "code",
   "execution_count": 6,
   "id": "10620312",
   "metadata": {
    "scrolled": true
   },
   "outputs": [
    {
     "ename": "TimeoutError",
     "evalue": "result expired",
     "output_type": "error",
     "traceback": [
      "\u001b[1;31m---------------------------------------------------------------------------\u001b[0m",
      "\u001b[1;31mTimeoutError\u001b[0m                              Traceback (most recent call last)",
      "Input \u001b[1;32mIn [6]\u001b[0m, in \u001b[0;36m<cell line: 1>\u001b[1;34m()\u001b[0m\n\u001b[0;32m      1\u001b[0m \u001b[38;5;28;01mfor\u001b[39;00m row \u001b[38;5;129;01min\u001b[39;00m \u001b[38;5;28mrange\u001b[39m(\u001b[38;5;241m4\u001b[39m):\n\u001b[0;32m      2\u001b[0m     \u001b[38;5;28;01mfor\u001b[39;00m col \u001b[38;5;129;01min\u001b[39;00m \u001b[38;5;28mrange\u001b[39m(\u001b[38;5;241m6\u001b[39m):\n\u001b[1;32m----> 3\u001b[0m         \u001b[43mdepo_device\u001b[49m\u001b[38;5;241;43m.\u001b[39;49m\u001b[43macquire\u001b[49m\u001b[43m(\u001b[49m\u001b[38;5;241;43m0.6\u001b[39;49m\u001b[43m,\u001b[49m\u001b[43m \u001b[49m\u001b[43mlocation\u001b[49m\u001b[38;5;241;43m=\u001b[39;49m\u001b[38;5;124;43m\"\u001b[39;49m\u001b[38;5;124;43macid\u001b[39;49m\u001b[38;5;124;43m\"\u001b[39;49m\u001b[43m)\u001b[49m\n\u001b[0;32m      4\u001b[0m         depo_device\u001b[38;5;241m.\u001b[39mdeposition(\u001b[38;5;241m0.6\u001b[39m, row\u001b[38;5;241m=\u001b[39mrow, col\u001b[38;5;241m=\u001b[39mcol)\n\u001b[0;32m      5\u001b[0m         pH_device\u001b[38;5;241m.\u001b[39mmove_to_cell(row\u001b[38;5;241m=\u001b[39mrow, col\u001b[38;5;241m=\u001b[39mcol)\n",
      "File \u001b[1;32m~\\Documents\\Fall 2022\\Research\\LEGOLAS Project Files\\LEGOLAS Files\\core.py:412\u001b[0m, in \u001b[0;36mDepositionDevice.acquire\u001b[1;34m(self, vol, acq_degree, location, row, col, x_degree, y_degree)\u001b[0m\n\u001b[0;32m    409\u001b[0m \u001b[38;5;28;01melse\u001b[39;00m:\n\u001b[0;32m    410\u001b[0m     \u001b[38;5;28;01mraise\u001b[39;00m \u001b[38;5;167;01mValueError\u001b[39;00m(\u001b[38;5;124m\"\u001b[39m\u001b[38;5;124mvol or acq_degree must not be None at the same time\u001b[39m\u001b[38;5;124m\"\u001b[39m)\n\u001b[1;32m--> 412\u001b[0m \u001b[38;5;28;43mself\u001b[39;49m\u001b[38;5;241;43m.\u001b[39;49m\u001b[43mmove_to\u001b[49m\u001b[43m(\u001b[49m\u001b[43mlocation\u001b[49m\u001b[38;5;241;43m=\u001b[39;49m\u001b[43mlocation\u001b[49m\u001b[43m,\u001b[49m\u001b[43m \u001b[49m\u001b[43mrow\u001b[49m\u001b[38;5;241;43m=\u001b[39;49m\u001b[43mrow\u001b[49m\u001b[43m,\u001b[49m\u001b[43m \u001b[49m\u001b[43mcol\u001b[49m\u001b[38;5;241;43m=\u001b[39;49m\u001b[43mcol\u001b[49m\u001b[43m,\u001b[49m\u001b[43m \u001b[49m\u001b[43mx_degree\u001b[49m\u001b[38;5;241;43m=\u001b[39;49m\u001b[43mx_degree\u001b[49m\u001b[43m,\u001b[49m\u001b[43m \u001b[49m\u001b[43my_degree\u001b[49m\u001b[38;5;241;43m=\u001b[39;49m\u001b[43my_degree\u001b[49m\u001b[43m)\u001b[49m\n\u001b[0;32m    414\u001b[0m \u001b[38;5;66;03m# if location is not None:\u001b[39;00m\n\u001b[0;32m    415\u001b[0m \u001b[38;5;66;03m#     self.move_to_loc(location)\u001b[39;00m\n\u001b[0;32m    416\u001b[0m \u001b[38;5;66;03m# elif row is not None and col is not None:\u001b[39;00m\n\u001b[1;32m   (...)\u001b[0m\n\u001b[0;32m    422\u001b[0m     \n\u001b[0;32m    423\u001b[0m \u001b[38;5;66;03m# self.motor_S.run_for_degrees(-self.s_full_down)\u001b[39;00m\n\u001b[0;32m    424\u001b[0m \u001b[38;5;28mself\u001b[39m\u001b[38;5;241m.\u001b[39mto_zpos(\u001b[38;5;124m\"\u001b[39m\u001b[38;5;124mfull_down\u001b[39m\u001b[38;5;124m\"\u001b[39m)\n",
      "File \u001b[1;32m~\\Documents\\Fall 2022\\Research\\LEGOLAS Project Files\\LEGOLAS Files\\core.py:322\u001b[0m, in \u001b[0;36mDeviceOnStage.move_to\u001b[1;34m(self, location, row, col, x_degree, y_degree)\u001b[0m\n\u001b[0;32m    320\u001b[0m \u001b[38;5;28;01mdef\u001b[39;00m \u001b[38;5;21mmove_to\u001b[39m(\u001b[38;5;28mself\u001b[39m, location\u001b[38;5;241m=\u001b[39m\u001b[38;5;28;01mNone\u001b[39;00m, row\u001b[38;5;241m=\u001b[39m\u001b[38;5;28;01mNone\u001b[39;00m, col\u001b[38;5;241m=\u001b[39m\u001b[38;5;28;01mNone\u001b[39;00m, x_degree\u001b[38;5;241m=\u001b[39m\u001b[38;5;28;01mNone\u001b[39;00m, y_degree\u001b[38;5;241m=\u001b[39m\u001b[38;5;28;01mNone\u001b[39;00m):\n\u001b[0;32m    321\u001b[0m     \u001b[38;5;28;01mif\u001b[39;00m location \u001b[38;5;129;01mis\u001b[39;00m \u001b[38;5;129;01mnot\u001b[39;00m \u001b[38;5;28;01mNone\u001b[39;00m:\n\u001b[1;32m--> 322\u001b[0m         \u001b[38;5;28;43mself\u001b[39;49m\u001b[38;5;241;43m.\u001b[39;49m\u001b[43mmove_to_loc\u001b[49m\u001b[43m(\u001b[49m\u001b[43mlocation\u001b[49m\u001b[43m)\u001b[49m\n\u001b[0;32m    323\u001b[0m     \u001b[38;5;28;01melif\u001b[39;00m row \u001b[38;5;129;01mis\u001b[39;00m \u001b[38;5;129;01mnot\u001b[39;00m \u001b[38;5;28;01mNone\u001b[39;00m \u001b[38;5;129;01mand\u001b[39;00m col \u001b[38;5;129;01mis\u001b[39;00m \u001b[38;5;129;01mnot\u001b[39;00m \u001b[38;5;28;01mNone\u001b[39;00m:\n\u001b[0;32m    324\u001b[0m         \u001b[38;5;28mself\u001b[39m\u001b[38;5;241m.\u001b[39mmove_to_cell(row, col)\n",
      "File \u001b[1;32m~\\Documents\\Fall 2022\\Research\\LEGOLAS Project Files\\LEGOLAS Files\\core.py:318\u001b[0m, in \u001b[0;36mDeviceOnStage.move_to_loc\u001b[1;34m(self, location)\u001b[0m\n\u001b[0;32m    317\u001b[0m \u001b[38;5;28;01mdef\u001b[39;00m \u001b[38;5;21mmove_to_loc\u001b[39m(\u001b[38;5;28mself\u001b[39m, location):\n\u001b[1;32m--> 318\u001b[0m     \u001b[38;5;28;43mself\u001b[39;49m\u001b[38;5;241;43m.\u001b[39;49m\u001b[43mstage\u001b[49m\u001b[38;5;241;43m.\u001b[39;49m\u001b[43mmove_to_loc\u001b[49m\u001b[43m(\u001b[49m\u001b[43mlocation\u001b[49m\u001b[43m,\u001b[49m\u001b[43m \u001b[49m\u001b[38;5;28;43mself\u001b[39;49m\u001b[38;5;241;43m.\u001b[39;49m\u001b[43mx_offset\u001b[49m\u001b[43m,\u001b[49m\u001b[43m \u001b[49m\u001b[38;5;28;43mself\u001b[39;49m\u001b[38;5;241;43m.\u001b[39;49m\u001b[43my_offset\u001b[49m\u001b[43m)\u001b[49m\n",
      "File \u001b[1;32m~\\Documents\\Fall 2022\\Research\\LEGOLAS Project Files\\LEGOLAS Files\\core.py:289\u001b[0m, in \u001b[0;36mStage.move_to_loc\u001b[1;34m(self, location, device_x_offset, device_y_offset)\u001b[0m\n\u001b[0;32m    287\u001b[0m \u001b[38;5;28;01melse\u001b[39;00m:\n\u001b[0;32m    288\u001b[0m     positionX, positionY \u001b[38;5;241m=\u001b[39m \u001b[38;5;28mself\u001b[39m\u001b[38;5;241m.\u001b[39maux_loc_map(location)\n\u001b[1;32m--> 289\u001b[0m \u001b[38;5;28;43mself\u001b[39;49m\u001b[38;5;241;43m.\u001b[39;49m\u001b[43mmove_to_deg\u001b[49m\u001b[43m(\u001b[49m\u001b[43mpositionX\u001b[49m\u001b[43m,\u001b[49m\u001b[43m \u001b[49m\u001b[43mpositionY\u001b[49m\u001b[43m,\u001b[49m\u001b[43m \u001b[49m\u001b[43mdevice_x_offset\u001b[49m\u001b[43m,\u001b[49m\u001b[43m \u001b[49m\u001b[43mdevice_y_offset\u001b[49m\u001b[43m)\u001b[49m\n",
      "File \u001b[1;32m~\\Documents\\Fall 2022\\Research\\LEGOLAS Project Files\\LEGOLAS Files\\core.py:275\u001b[0m, in \u001b[0;36mStage.move_to_deg\u001b[1;34m(self, x_degree, y_degree, device_x_offset, device_y_offset)\u001b[0m\n\u001b[0;32m    274\u001b[0m \u001b[38;5;28;01mdef\u001b[39;00m \u001b[38;5;21mmove_to_deg\u001b[39m(\u001b[38;5;28mself\u001b[39m, x_degree, y_degree, device_x_offset\u001b[38;5;241m=\u001b[39m\u001b[38;5;241m0\u001b[39m, device_y_offset\u001b[38;5;241m=\u001b[39m\u001b[38;5;241m0\u001b[39m):\n\u001b[1;32m--> 275\u001b[0m     originX_offset, originY_offset \u001b[38;5;241m=\u001b[39m \u001b[38;5;28;43mself\u001b[39;49m\u001b[38;5;241;43m.\u001b[39;49m\u001b[43mget_XYloc\u001b[49m\u001b[43m(\u001b[49m\u001b[43m)\u001b[49m\n\u001b[0;32m    276\u001b[0m     \u001b[38;5;28mself\u001b[39m\u001b[38;5;241m.\u001b[39mmove_by_deg(x_degree \u001b[38;5;241m-\u001b[39m originX_offset , y_degree \u001b[38;5;241m-\u001b[39m originY_offset, device_x_offset, device_y_offset)\n",
      "File \u001b[1;32m~\\Documents\\Fall 2022\\Research\\LEGOLAS Project Files\\LEGOLAS Files\\core.py:293\u001b[0m, in \u001b[0;36mStage.get_XYloc\u001b[1;34m(self)\u001b[0m\n\u001b[0;32m    292\u001b[0m \u001b[38;5;28;01mdef\u001b[39;00m \u001b[38;5;21mget_XYloc\u001b[39m(\u001b[38;5;28mself\u001b[39m):\n\u001b[1;32m--> 293\u001b[0m     \u001b[38;5;28mself\u001b[39m\u001b[38;5;241m.\u001b[39mx_loc \u001b[38;5;241m=\u001b[39m \u001b[38;5;28;43mself\u001b[39;49m\u001b[38;5;241;43m.\u001b[39;49m\u001b[43mmotor_X\u001b[49m\u001b[38;5;241;43m.\u001b[39;49m\u001b[43mget_position\u001b[49m() \u001b[38;5;241m-\u001b[39m \u001b[38;5;28mself\u001b[39m\u001b[38;5;241m.\u001b[39mx_start\n\u001b[0;32m    294\u001b[0m     \u001b[38;5;28mself\u001b[39m\u001b[38;5;241m.\u001b[39my_loc \u001b[38;5;241m=\u001b[39m \u001b[38;5;28mself\u001b[39m\u001b[38;5;241m.\u001b[39mmotor_Y\u001b[38;5;241m.\u001b[39mget_position() \u001b[38;5;241m-\u001b[39m \u001b[38;5;28mself\u001b[39m\u001b[38;5;241m.\u001b[39my_start\n\u001b[0;32m    295\u001b[0m     \u001b[38;5;28;01mreturn\u001b[39;00m \u001b[38;5;28mself\u001b[39m\u001b[38;5;241m.\u001b[39mx_loc, \u001b[38;5;28mself\u001b[39m\u001b[38;5;241m.\u001b[39my_loc\n",
      "File \u001b[1;32m~\\anaconda3\\lib\\site-packages\\rpyc\\core\\netref.py:148\u001b[0m, in \u001b[0;36mBaseNetref.__getattribute__\u001b[1;34m(self, name)\u001b[0m\n\u001b[0;32m    146\u001b[0m     \u001b[38;5;28;01mreturn\u001b[39;00m \u001b[38;5;28mobject\u001b[39m\u001b[38;5;241m.\u001b[39m\u001b[38;5;21m__getattribute__\u001b[39m(\u001b[38;5;28mself\u001b[39m, \u001b[38;5;124m\"\u001b[39m\u001b[38;5;124m__array__\u001b[39m\u001b[38;5;124m\"\u001b[39m)\n\u001b[0;32m    147\u001b[0m \u001b[38;5;28;01melse\u001b[39;00m:\n\u001b[1;32m--> 148\u001b[0m     \u001b[38;5;28;01mreturn\u001b[39;00m \u001b[43msyncreq\u001b[49m\u001b[43m(\u001b[49m\u001b[38;5;28;43mself\u001b[39;49m\u001b[43m,\u001b[49m\u001b[43m \u001b[49m\u001b[43mconsts\u001b[49m\u001b[38;5;241;43m.\u001b[39;49m\u001b[43mHANDLE_GETATTR\u001b[49m\u001b[43m,\u001b[49m\u001b[43m \u001b[49m\u001b[43mname\u001b[49m\u001b[43m)\u001b[49m\n",
      "File \u001b[1;32m~\\anaconda3\\lib\\site-packages\\rpyc\\core\\netref.py:63\u001b[0m, in \u001b[0;36msyncreq\u001b[1;34m(proxy, handler, *args)\u001b[0m\n\u001b[0;32m     51\u001b[0m \u001b[38;5;124;03m\"\"\"Performs a synchronous request on the given proxy object.\u001b[39;00m\n\u001b[0;32m     52\u001b[0m \u001b[38;5;124;03mNot intended to be invoked directly.\u001b[39;00m\n\u001b[0;32m     53\u001b[0m \n\u001b[1;32m   (...)\u001b[0m\n\u001b[0;32m     60\u001b[0m \u001b[38;5;124;03m:returns: the result of the operation\u001b[39;00m\n\u001b[0;32m     61\u001b[0m \u001b[38;5;124;03m\"\"\"\u001b[39;00m\n\u001b[0;32m     62\u001b[0m conn \u001b[38;5;241m=\u001b[39m \u001b[38;5;28mobject\u001b[39m\u001b[38;5;241m.\u001b[39m\u001b[38;5;21m__getattribute__\u001b[39m(proxy, \u001b[38;5;124m\"\u001b[39m\u001b[38;5;124m____conn__\u001b[39m\u001b[38;5;124m\"\u001b[39m)\n\u001b[1;32m---> 63\u001b[0m \u001b[38;5;28;01mreturn\u001b[39;00m \u001b[43mconn\u001b[49m\u001b[38;5;241;43m.\u001b[39;49m\u001b[43msync_request\u001b[49m\u001b[43m(\u001b[49m\u001b[43mhandler\u001b[49m\u001b[43m,\u001b[49m\u001b[43m \u001b[49m\u001b[43mproxy\u001b[49m\u001b[43m,\u001b[49m\u001b[43m \u001b[49m\u001b[38;5;241;43m*\u001b[39;49m\u001b[43margs\u001b[49m\u001b[43m)\u001b[49m\n",
      "File \u001b[1;32m~\\anaconda3\\lib\\site-packages\\rpyc\\core\\protocol.py:490\u001b[0m, in \u001b[0;36mConnection.sync_request\u001b[1;34m(self, handler, *args)\u001b[0m\n\u001b[0;32m    487\u001b[0m _async_res \u001b[38;5;241m=\u001b[39m \u001b[38;5;28mself\u001b[39m\u001b[38;5;241m.\u001b[39masync_request(handler, \u001b[38;5;241m*\u001b[39margs, timeout\u001b[38;5;241m=\u001b[39mtimeout)\n\u001b[0;32m    488\u001b[0m \u001b[38;5;66;03m# _async_res is an instance of AsyncResult, the value property invokes Connection.serve via AsyncResult.wait\u001b[39;00m\n\u001b[0;32m    489\u001b[0m \u001b[38;5;66;03m# So, the _recvlock can be acquired multiple times by the owning thread and warrants the use of RLock\u001b[39;00m\n\u001b[1;32m--> 490\u001b[0m \u001b[38;5;28;01mreturn\u001b[39;00m \u001b[43m_async_res\u001b[49m\u001b[38;5;241;43m.\u001b[39;49m\u001b[43mvalue\u001b[49m\n",
      "File \u001b[1;32m~\\anaconda3\\lib\\site-packages\\rpyc\\core\\async_.py:106\u001b[0m, in \u001b[0;36mAsyncResult.value\u001b[1;34m(self)\u001b[0m\n\u001b[0;32m     98\u001b[0m \u001b[38;5;129m@property\u001b[39m\n\u001b[0;32m     99\u001b[0m \u001b[38;5;28;01mdef\u001b[39;00m \u001b[38;5;21mvalue\u001b[39m(\u001b[38;5;28mself\u001b[39m):\n\u001b[0;32m    100\u001b[0m     \u001b[38;5;124;03m\"\"\"Returns the result of the operation. If the result has not yet\u001b[39;00m\n\u001b[0;32m    101\u001b[0m \u001b[38;5;124;03m    arrived, accessing this property will wait for it. If the result does\u001b[39;00m\n\u001b[0;32m    102\u001b[0m \u001b[38;5;124;03m    not arrive before the expiry time elapses, :class:`AsyncResultTimeout`\u001b[39;00m\n\u001b[0;32m    103\u001b[0m \u001b[38;5;124;03m    is raised. If the returned result is an exception, it will be raised\u001b[39;00m\n\u001b[0;32m    104\u001b[0m \u001b[38;5;124;03m    here. Otherwise, the result is returned directly.\u001b[39;00m\n\u001b[0;32m    105\u001b[0m \u001b[38;5;124;03m    \"\"\"\u001b[39;00m\n\u001b[1;32m--> 106\u001b[0m     \u001b[38;5;28;43mself\u001b[39;49m\u001b[38;5;241;43m.\u001b[39;49m\u001b[43mwait\u001b[49m\u001b[43m(\u001b[49m\u001b[43m)\u001b[49m\n\u001b[0;32m    107\u001b[0m     \u001b[38;5;28;01mif\u001b[39;00m \u001b[38;5;28mself\u001b[39m\u001b[38;5;241m.\u001b[39m_is_exc:\n\u001b[0;32m    108\u001b[0m         \u001b[38;5;28;01mraise\u001b[39;00m \u001b[38;5;28mself\u001b[39m\u001b[38;5;241m.\u001b[39m_obj\n",
      "File \u001b[1;32m~\\anaconda3\\lib\\site-packages\\rpyc\\core\\async_.py:55\u001b[0m, in \u001b[0;36mAsyncResult.wait\u001b[1;34m(self)\u001b[0m\n\u001b[0;32m     53\u001b[0m \u001b[38;5;66;03m# Check if we timed out before result was ready\u001b[39;00m\n\u001b[0;32m     54\u001b[0m \u001b[38;5;28;01mif\u001b[39;00m \u001b[38;5;129;01mnot\u001b[39;00m \u001b[38;5;28mself\u001b[39m\u001b[38;5;241m.\u001b[39m_is_ready:\n\u001b[1;32m---> 55\u001b[0m     \u001b[38;5;28;01mraise\u001b[39;00m AsyncResultTimeout(\u001b[38;5;124m\"\u001b[39m\u001b[38;5;124mresult expired\u001b[39m\u001b[38;5;124m\"\u001b[39m)\n",
      "\u001b[1;31mTimeoutError\u001b[0m: result expired"
     ]
    }
   ],
   "source": [
    "for row in range(4):\n",
    "    for col in range(6):\n",
    "        depo_device.acquire(0.6, location=\"acid\")\n",
    "        depo_device.deposition(0.6, row=row, col=col)\n",
    "        pH_device.move_to_cell(row=row, col=col)\n",
    "        pH = pH_device.pH_measure(stable_time=1)\n",
    "        print(f\"row {row} col {col} pH {pH}\")"
   ]
  },
  {
   "cell_type": "code",
   "execution_count": 7,
   "id": "198f0875",
   "metadata": {},
   "outputs": [
    {
     "data": {
      "text/plain": [
       "{'full_down': 634, 'full_up': 831}"
      ]
     },
     "execution_count": 7,
     "metadata": {},
     "output_type": "execute_result"
    }
   ],
   "source": [
    "#pH_device.pH_positions"
   ]
  },
  {
   "cell_type": "code",
   "execution_count": 6,
   "id": "5e1a2a60",
   "metadata": {},
   "outputs": [
    {
     "data": {
      "text/plain": [
       "1946"
      ]
     },
     "execution_count": 6,
     "metadata": {},
     "output_type": "execute_result"
    }
   ],
   "source": [
    "#pH_device.motor_pH.get_position()"
   ]
  },
  {
   "cell_type": "code",
   "execution_count": null,
   "id": "ac85d496",
   "metadata": {},
   "outputs": [],
   "source": [
    "row = 5\n",
    "for col in range(8):\n",
    "    depo_device.acquire(0.6, location=\"acid\")\n",
    "    depo_device.deposition(0.6, row=row, col=col)\n",
    "    pH_device.move_to_cell(row=row, col=col)\n",
    "    pH = pH_device.pH_measure(stable_time=20)\n",
    "    print(f\"row {row} col {col} pH {pH}\")"
   ]
  }
 ],
 "metadata": {
  "kernelspec": {
   "display_name": "Python 3 (ipykernel)",
   "language": "python",
   "name": "python3"
  },
  "language_info": {
   "codemirror_mode": {
    "name": "ipython",
    "version": 3
   },
   "file_extension": ".py",
   "mimetype": "text/x-python",
   "name": "python",
   "nbconvert_exporter": "python",
   "pygments_lexer": "ipython3",
   "version": "3.7.6"
  },
  "vscode": {
   "interpreter": {
    "hash": "0095c6ec66f02ae1bc8a134f6078f14ee669be44a5c4ac33d7f267434e255fcc"
   }
  }
 },
 "nbformat": 4,
 "nbformat_minor": 5
}
