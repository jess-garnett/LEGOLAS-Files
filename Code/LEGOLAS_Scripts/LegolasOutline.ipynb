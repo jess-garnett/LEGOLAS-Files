{
 "cells": [
  {
   "cell_type": "markdown",
   "id": "a5e32ee6",
   "metadata": {},
   "source": [
    "# Legolas Outline\n",
    "\n",
    "Use this code to answer the challenges."
   ]
  },
  {
   "cell_type": "code",
   "execution_count": 2,
   "id": "81121651",
   "metadata": {},
   "outputs": [],
   "source": [
    "import utils\n",
    "from core import *"
   ]
  },
  {
   "cell_type": "code",
   "execution_count": null,
   "id": "8cf1dbbb",
   "metadata": {},
   "outputs": [
    {
     "name": "stdout",
     "output_type": "stream",
     "text": [
      "kill server at PID:2664\n",
      "restarting the rpyc server at host: 192.168.0.4\n",
      "rpyc server start successfully\n",
      "kill server at PID:15306\n",
      "restarting the rpyc server at host: 192.168.0.5\n",
      "rpyc server start successfully\n"
     ]
    },
    {
     "name": "stderr",
     "output_type": "stream",
     "text": [
      "Socket exception: An existing connection was forcibly closed by the remote host (10054)\n",
      "Socket exception: An existing connection was forcibly closed by the remote host (10054)\n",
      "Socket exception: An existing connection was forcibly closed by the remote host (10054)\n",
      "Socket exception: An existing connection was forcibly closed by the remote host (10054)\n",
      "Socket exception: An existing connection was forcibly closed by the remote host (10054)\n",
      "Socket exception: An existing connection was forcibly closed by the remote host (10054)\n",
      "Socket exception: An existing connection was forcibly closed by the remote host (10054)\n",
      "Socket exception: An existing connection was forcibly closed by the remote host (10054)\n"
     ]
    }
   ],
   "source": [
    "# this is how you reset the rpyc server when facing the port already in use\n",
    "# need to change to actual host name\n",
    "host_1 = \"192.168.0.4\"\n",
    "host_2 = \"192.168.0.5\"\n",
    "\n",
    "utils.restart_server(host=host_1)\n",
    "utils.restart_server(host=host_2)"
   ]
  },
  {
   "cell_type": "code",
   "execution_count": 15,
   "id": "f7c1a4ef",
   "metadata": {},
   "outputs": [],
   "source": [
    "stage, depo_device, pH_device, conn1, conn2, config = load_from_config(r\"C:\\Users\\drago\\Documents\\GitHub\\LEGOLAS-Files\\config_11_27_23.yaml\")"
   ]
  },
  {
   "cell_type": "code",
   "execution_count": 8,
   "id": "25ba1a33",
   "metadata": {},
   "outputs": [
    {
     "ename": "AssertionError",
     "evalue": "",
     "output_type": "error",
     "traceback": [
      "\u001b[1;31m---------------------------------------------------------------------------\u001b[0m",
      "\u001b[1;31mAssertionError\u001b[0m                            Traceback (most recent call last)",
      "\u001b[1;32mc:\\Users\\drago\\Documents\\GitHub\\LEGOLAS-Files\\Code\\LEGOLAS_Scripts\\LegolasOutline.ipynb Cell 5\u001b[0m line \u001b[0;36m2\n\u001b[0;32m      <a href='vscode-notebook-cell:/c%3A/Users/drago/Documents/GitHub/LEGOLAS-Files/Code/LEGOLAS_Scripts/LegolasOutline.ipynb#W4sZmlsZQ%3D%3D?line=0'>1</a>\u001b[0m \u001b[39m# it is ok if this fails, just move on to the next code block\u001b[39;00m\n\u001b[1;32m----> <a href='vscode-notebook-cell:/c%3A/Users/drago/Documents/GitHub/LEGOLAS-Files/Code/LEGOLAS_Scripts/LegolasOutline.ipynb#W4sZmlsZQ%3D%3D?line=1'>2</a>\u001b[0m sanity_check(stage\u001b[39m=\u001b[39;49mstage, pH_device\u001b[39m=\u001b[39;49mpH_device, depo_device\u001b[39m=\u001b[39;49mdepo_device)\n",
      "File \u001b[1;32mc:\\Users\\drago\\Documents\\GitHub\\LEGOLAS-Files\\Code\\LEGOLAS_Scripts\\core.py:604\u001b[0m, in \u001b[0;36msanity_check\u001b[1;34m(stage, pH_device, depo_device)\u001b[0m\n\u001b[0;32m    602\u001b[0m stage\u001b[39m.\u001b[39msanity_check()\n\u001b[0;32m    603\u001b[0m pH_device\u001b[39m.\u001b[39msanity_check()\n\u001b[1;32m--> 604\u001b[0m depo_device\u001b[39m.\u001b[39;49msanity_check()\n\u001b[0;32m    605\u001b[0m \u001b[39mreturn\u001b[39;00m \u001b[39mTrue\u001b[39;00m\n",
      "File \u001b[1;32mc:\\Users\\drago\\Documents\\GitHub\\LEGOLAS-Files\\Code\\LEGOLAS_Scripts\\core.py:402\u001b[0m, in \u001b[0;36mDepositionDevice.sanity_check\u001b[1;34m(self)\u001b[0m\n\u001b[0;32m    400\u001b[0m pos \u001b[39m=\u001b[39m \u001b[39mself\u001b[39m\u001b[39m.\u001b[39mmotor_V\u001b[39m.\u001b[39mget_position()\n\u001b[0;32m    401\u001b[0m l, m \u001b[39m=\u001b[39m np\u001b[39m.\u001b[39mmin( \u001b[39mlist\u001b[39m(\u001b[39mself\u001b[39m\u001b[39m.\u001b[39mvol_deg_map\u001b[39m.\u001b[39mvalues()) ), np\u001b[39m.\u001b[39mmax(\u001b[39mlist\u001b[39m(\u001b[39mself\u001b[39m\u001b[39m.\u001b[39mvol_deg_map\u001b[39m.\u001b[39mvalues()))\n\u001b[1;32m--> 402\u001b[0m \u001b[39massert\u001b[39;00m  l \u001b[39m<\u001b[39m\u001b[39m=\u001b[39m pos \u001b[39mand\u001b[39;00m pos \u001b[39m<\u001b[39m\u001b[39m=\u001b[39m m\n",
      "\u001b[1;31mAssertionError\u001b[0m: "
     ]
    }
   ],
   "source": [
    "# it is ok if this fails, just move on to the next code block\n",
    "sanity_check(stage=stage, pH_device=pH_device, depo_device=depo_device)"
   ]
  },
  {
   "cell_type": "code",
   "execution_count": 9,
   "id": "8e64d969",
   "metadata": {},
   "outputs": [
    {
     "name": "stdout",
     "output_type": "stream",
     "text": [
      "/dev/ttyACM0 ttyACM0 USB VID:PID=2341:0043 SER=9553034393435130E032 LOCATION=1-1.1:1.0\n",
      "/dev/ttyAMA0 ttyAMA0 fe201000.serial\n"
     ]
    }
   ],
   "source": [
    "# find the usb port if problem occur\n",
    "list_ports = conn1.modules['serial.tools.list_ports']\n",
    "\n",
    "ports=list_ports.comports()\n",
    "for port, desc, hwid in sorted(ports):\n",
    "    print(port, desc, hwid)"
   ]
  },
  {
   "cell_type": "code",
   "execution_count": 16,
   "id": "af6f243a",
   "metadata": {},
   "outputs": [],
   "source": [
    "# Go to Home Position\n",
    "reset(stage=stage, pH_device=pH_device, depo_device=depo_device)\n",
    "# stage.home()"
   ]
  },
  {
   "cell_type": "code",
   "execution_count": 17,
   "metadata": {},
   "outputs": [],
   "source": [
    "def depo(acid:bool,volume:float,row:int,col:int):\n",
    "    if acid:\n",
    "        loc=\"acid\"\n",
    "    else:\n",
    "        loc=\"base\"\n",
    "    while volume>0.6:\n",
    "        depo_device.acquire(0.6, location=loc)\n",
    "        print(f\"Acquired 0.6ml of {loc}\")\n",
    "        depo_device.deposition(0.6, row=row, col=col)\n",
    "        volume-=0.6\n",
    "        print(f\"Deposited 0.6ml of {loc} in ({row},{col})\")\n",
    "    if volume >= 0.04:\n",
    "        depo_device.acquire(volume, location=loc)\n",
    "        print(f\"Acquired {volume}ml of {loc}\")\n",
    "        depo_device.deposition(volume, row=row, col=col)\n",
    "        print(f\"Deposited {volume}ml of {loc} in ({row},{col})\")\n",
    "    return None\n",
    "\n",
    "def mix_ab(a:float,b:float,row:int,col:int):\n",
    "    \"\"\"\n",
    "    a+b will be normalized to a volume of 2ml\n",
    "    \"\"\"\n",
    "    acid=2*a/(a+b)\n",
    "    base=2*b/(a+b)\n",
    "    print(f\"Mixing {acid}ml of acid and {base}ml of base in ({row},{col})\")\n",
    "    depo(acid=True,volume=acid,row=row,col=col)\n",
    "    depo(acid=False,volume=base,row=row,col=col)\n",
    "\n",
    "def clean_ph():\n",
    "    pH_device.move_to_loc(\"clean\")\n",
    "    pH_device.to_zpos(\"full_down\")\n",
    "    pH_device.to_zpos(\"full_up\")\n",
    "    print(\"Cleaned pH Probe\")\n",
    "\n",
    "def measured_ph(row,col):\n",
    "    pH_device.move_to_cell(row=row, col=col)\n",
    "    pH = pH_device.pH_measure(stable_time=20) ###should be 20 for actual run\n",
    "    print(f\"row {row} col {col} pH {pH}\")\n",
    "    return pH\n",
    "\n",
    "class cell_grid():\n",
    "    def __init__(self,rows,cols,start=0,**filled):\n",
    "        self.rows=rows\n",
    "        self.cols=cols\n",
    "        self.start=start\n",
    "        np.fromfunction(lambda r,c:(r,c),(rows,cols))"
   ]
  },
  {
   "cell_type": "markdown",
   "id": "5c8f8ff3",
   "metadata": {},
   "source": [
    "## (1) Measurement Uncertainty\n",
    "\n",
    "**(a)** Write a script to create a sample with an equal amount of acid and base (Total volume should be 2 ml and each deposition sequence should not exceed 0.6 mL for LEGOLAS to function properly)\n",
    "\n",
    "**(b)** Write a script to follow these operations in a loop with 10 measurements:\n",
    "-  Dip the pH sensor in the DI water well\n",
    "-  Dip the pH sensor into the sample from (a), measure pH and record.\n",
    "\n",
    "**(c)** Plot the results from (b). \n",
    "\n",
    "What is the mean and variance of these measurements? Please include this information as markdown text in the Jupyter notebook.\n"
   ]
  },
  {
   "cell_type": "markdown",
   "metadata": {},
   "source": [
    "### (a)\n",
    "Write a script to create a sample with an equal amount of acid and base (Total volume should be 2 ml and each deposition sequence should not exceed 0.6 mL for LEGOLAS to function properly)"
   ]
  },
  {
   "cell_type": "code",
   "execution_count": 28,
   "id": "96d0beb9",
   "metadata": {},
   "outputs": [
    {
     "name": "stdout",
     "output_type": "stream",
     "text": [
      "Mixing 1.0ml of acid and 1.0ml of base in (2,2)\n",
      "Acquired 0.6ml of acid\n",
      "Deposited 0.6ml of acid in (2,2)\n",
      "Acquired 0.4ml of acid\n",
      "Deposited 0.4ml of acid in (2,2)\n",
      "Acquired 0.6ml of base\n",
      "Deposited 0.6ml of base in (2,2)\n",
      "Acquired 0.4ml of base\n",
      "Deposited 0.4ml of base in (2,2)\n"
     ]
    }
   ],
   "source": [
    "mix_ab(0.5,0.5,2,2)"
   ]
  },
  {
   "cell_type": "markdown",
   "metadata": {},
   "source": [
    "### (b)\n",
    "Write a script to follow these operations in a loop with 10 measurements:\n",
    "-  Dip the pH sensor in the DI water well\n",
    "-  Dip the pH sensor into the sample from (a), measure pH and record."
   ]
  },
  {
   "cell_type": "code",
   "execution_count": 29,
   "metadata": {},
   "outputs": [
    {
     "name": "stdout",
     "output_type": "stream",
     "text": [
      "Starting iteration 0:\n",
      "Cleaned pH Probe\n",
      "pH is Measured as: 4.35\n",
      "row 2 col 2 pH 4.35\n",
      "Starting iteration 1:\n",
      "Cleaned pH Probe\n",
      "pH is Measured as: 4.35\n",
      "row 2 col 2 pH 4.35\n",
      "Starting iteration 2:\n",
      "Cleaned pH Probe\n",
      "pH is Measured as: 4.35\n",
      "row 2 col 2 pH 4.35\n",
      "Starting iteration 3:\n",
      "Cleaned pH Probe\n",
      "pH is Measured as: 4.36\n",
      "row 2 col 2 pH 4.36\n",
      "Starting iteration 4:\n",
      "Cleaned pH Probe\n",
      "pH is Measured as: 4.35\n",
      "row 2 col 2 pH 4.35\n",
      "Starting iteration 5:\n",
      "Cleaned pH Probe\n",
      "pH is Measured as: 4.36\n",
      "row 2 col 2 pH 4.36\n",
      "Starting iteration 6:\n",
      "Cleaned pH Probe\n",
      "pH is Measured as: 4.36\n",
      "row 2 col 2 pH 4.36\n",
      "Starting iteration 7:\n",
      "Cleaned pH Probe\n",
      "pH is Measured as: 4.36\n",
      "row 2 col 2 pH 4.36\n",
      "Starting iteration 8:\n",
      "Cleaned pH Probe\n",
      "pH is Measured as: 4.35\n",
      "row 2 col 2 pH 4.35\n",
      "Starting iteration 9:\n",
      "Cleaned pH Probe\n",
      "pH is Measured as: 4.36\n",
      "row 2 col 2 pH 4.36\n"
     ]
    }
   ],
   "source": [
    "def ph_cycle(iterations,row,col):\n",
    "    measurement_cycles=list(range(iterations))\n",
    "    phs=[]\n",
    "    for i in measurement_cycles:\n",
    "        print(f\"Starting iteration {i}:\")\n",
    "        clean_ph()\n",
    "        phs.append(measured_ph(row,col))\n",
    "    return phs,measurement_cycles\n",
    "phs,cycles=ph_cycle(10,2,2)"
   ]
  },
  {
   "cell_type": "markdown",
   "metadata": {},
   "source": [
    "### (c)\n",
    "Plot the results from (b). \n",
    "\n",
    "What is the mean and variance of these measurements? Please include this information as markdown text in the Jupyter notebook."
   ]
  },
  {
   "cell_type": "code",
   "execution_count": 30,
   "metadata": {},
   "outputs": [
    {
     "name": "stdout",
     "output_type": "stream",
     "text": [
      "Mean: 4.355\n",
      "Variance: 2.500000000000338e-05\n"
     ]
    },
    {
     "data": {
      "image/png": "[encoded data removed]",
      "text/plain": [
       "<Figure size 640x480 with 1 Axes>"
      ]
     },
     "metadata": {},
     "output_type": "display_data"
    }
   ],
   "source": [
    "from matplotlib import pyplot as plt\n",
    "plt.plot(cycles,phs)\n",
    "print(\"Mean:\",np.mean(phs))\n",
    "print(\"Variance:\",np.var(phs))\n",
    "plt.plot([cycles[0],cycles[-1]],[np.mean(phs),np.mean(phs)],linestyle=\"--\",c=\"b\")\n",
    "# plt.ylim(3,11)\n",
    "plt.show()"
   ]
  },
  {
   "cell_type": "markdown",
   "metadata": {},
   "source": [
    "Mean: 4.355\n",
    "\n",
    "Variance: $2.5*10^{-5}$\n",
    "\n",
    "We suspect this value is slightly off due to calibration but it demonstrates that we are able to carry out this process."
   ]
  },
  {
   "cell_type": "markdown",
   "id": "c6800637",
   "metadata": {},
   "source": [
    "## (2) The Henderson Hasselbach Equation\n",
    "\n",
    "The HH equation is given as:\n",
    "$pH = pK - log(\\frac{[Acid]}{[Base]})$\n",
    "\n",
    "The output gives the pH of the sample, pK is a constant, and [Acid] and [Base] are the **concentrations** of acid and base.  For these experiments we will work with the percentage of acid in the sample to create samples varying in composition from a percentage of acid of 10% through 80%.  \n",
    "\n",
    "**(a)** Write code that will create 8 samples of mixture amounts: acid [10%, 20%, ... 80%]\n",
    "\n",
    "**(b)** After each sample is made, have the system dip the pH sensor in the DI water well, and then measure the pH of the sample.  Plot the measured pH as a function of the [acid]/[base] **ratio**.  \n",
    "\n",
    "**(c)** Run the code created during steps (a) and (b) (this should be one for loop accomplishing both tasks together).  Then plot the results.  \n",
    "\n",
    "**(d)** We will now fit the HH equation to the data.  Write a function that takes in the [acid]/[base] ratio **x** and returns the **pH**, following this equation:\n",
    "-  Func(x, pK) = pK - log(x), where x = [acid]/[base]\n",
    "\n",
    "**(e)** Follow the example for the scipy function \"curve_fit\" to fit this function to the data you have measured: \n",
    "\n",
    "https://docs.scipy.org/doc/scipy/reference/generated/scipy.optimize.curve_fit.html\n",
    "\n",
    "(use default method and no optional parameters)\n",
    "\n",
    "**(f)** What is the pK value discovered?\n"
   ]
  },
  {
   "cell_type": "markdown",
   "metadata": {},
   "source": [
    "### (a)\n",
    "Write code that will create 8 samples of mixture amounts: acid [10%, 20%, ... 80%]\n",
    "\n",
    "### (b)\n",
    "After each sample is made, have the system dip the pH sensor in the DI water well, and then measure the pH of the sample.  Plot the measured pH as a function of the [acid]/[base] **ratio**.\n",
    "\n",
    "### (c)\n",
    "Run the code created during steps (a) and (b) (this should be one for loop accomplishing both tasks together).  Then plot the results.  "
   ]
  },
  {
   "cell_type": "code",
   "execution_count": 18,
   "id": "e4a11731",
   "metadata": {},
   "outputs": [
    {
     "name": "stdout",
     "output_type": "stream",
     "text": [
      "Mixing 0.2ml of acid and 1.8ml of base in (0,3)\n",
      "Acquired 0.2ml of acid\n",
      "Deposited 0.2ml of acid in (0,3)\n",
      "Acquired 0.6ml of base\n",
      "Deposited 0.6ml of base in (0,3)\n",
      "Acquired 0.6ml of base\n",
      "Deposited 0.6ml of base in (0,3)\n",
      "Acquired 0.6ml of base\n",
      "Deposited 0.6ml of base in (0,3)\n",
      "Cleaned pH Probe\n",
      "pH is Measured as: 3.64\n",
      "row 0 col 3 pH 3.64\n",
      "Mixing 0.4ml of acid and 1.6ml of base in (0,4)\n",
      "Acquired 0.4ml of acid\n",
      "Deposited 0.4ml of acid in (0,4)\n",
      "Acquired 0.6ml of base\n",
      "Deposited 0.6ml of base in (0,4)\n",
      "Acquired 0.6ml of base\n",
      "Deposited 0.6ml of base in (0,4)\n",
      "Acquired 0.4ml of base\n",
      "Deposited 0.4ml of base in (0,4)\n",
      "Cleaned pH Probe\n",
      "pH is Measured as: 5.12\n",
      "row 0 col 4 pH 5.12\n",
      "Mixing 0.6000000000000001ml of acid and 1.4ml of base in (0,5)\n",
      "Acquired 0.6ml of acid\n",
      "Deposited 0.6ml of acid in (0,5)\n",
      "Acquired 0.6ml of base\n",
      "Deposited 0.6ml of base in (0,5)\n",
      "Acquired 0.6ml of base\n",
      "Deposited 0.6ml of base in (0,5)\n",
      "Acquired 0.19999999999999996ml of base\n",
      "Deposited 0.19999999999999996ml of base in (0,5)\n",
      "Cleaned pH Probe\n",
      "pH is Measured as: 4.89\n",
      "row 0 col 5 pH 4.89\n",
      "Mixing 0.8ml of acid and 1.2ml of base in (1,0)\n",
      "Acquired 0.6ml of acid\n",
      "Deposited 0.6ml of acid in (1,0)\n",
      "Acquired 0.20000000000000007ml of acid\n",
      "Deposited 0.20000000000000007ml of acid in (1,0)\n",
      "Acquired 0.6ml of base\n",
      "Deposited 0.6ml of base in (1,0)\n",
      "Acquired 0.6ml of base\n",
      "Deposited 0.6ml of base in (1,0)\n",
      "Cleaned pH Probe\n",
      "pH is Measured as: 4.67\n",
      "row 1 col 0 pH 4.67\n",
      "Mixing 1.0ml of acid and 1.0ml of base in (1,1)\n",
      "Acquired 0.6ml of acid\n",
      "Deposited 0.6ml of acid in (1,1)\n",
      "Acquired 0.4ml of acid\n",
      "Deposited 0.4ml of acid in (1,1)\n",
      "Acquired 0.6ml of base\n",
      "Deposited 0.6ml of base in (1,1)\n",
      "Acquired 0.4ml of base\n",
      "Deposited 0.4ml of base in (1,1)\n",
      "Cleaned pH Probe\n",
      "pH is Measured as: 4.50\n",
      "row 1 col 1 pH 4.5\n",
      "Mixing 1.2ml of acid and 0.8ml of base in (1,2)\n",
      "Acquired 0.6ml of acid\n",
      "Deposited 0.6ml of acid in (1,2)\n",
      "Acquired 0.6ml of acid\n",
      "Deposited 0.6ml of acid in (1,2)\n",
      "Acquired 0.6ml of base\n",
      "Deposited 0.6ml of base in (1,2)\n",
      "Acquired 0.20000000000000007ml of base\n",
      "Deposited 0.20000000000000007ml of base in (1,2)\n",
      "Cleaned pH Probe\n",
      "pH is Measured as: 4.32\n",
      "row 1 col 2 pH 4.32\n",
      "Mixing 1.4000000000000001ml of acid and 0.5999999999999999ml of base in (1,3)\n",
      "Acquired 0.6ml of acid\n",
      "Deposited 0.6ml of acid in (1,3)\n",
      "Acquired 0.6ml of acid\n",
      "Deposited 0.6ml of acid in (1,3)\n",
      "Acquired 0.20000000000000018ml of acid\n",
      "Deposited 0.20000000000000018ml of acid in (1,3)\n",
      "Acquired 0.5999999999999999ml of base\n",
      "Deposited 0.5999999999999999ml of base in (1,3)\n",
      "Cleaned pH Probe\n",
      "fail to decode message from pH device. raw messsage: b'4\\xfe4.14\\r\\n'.\n"
     ]
    },
    {
     "ename": "TypeError",
     "evalue": "unsupported format string passed to bytes.__format__",
     "output_type": "error",
     "traceback": [
      "\u001b[1;31m---------------------------------------------------------------------------\u001b[0m",
      "\u001b[1;31mTypeError\u001b[0m                                 Traceback (most recent call last)",
      "\u001b[1;32mc:\\Users\\drago\\Documents\\GitHub\\LEGOLAS-Files\\Code\\LEGOLAS_Scripts\\LegolasOutline.ipynb Cell 19\u001b[0m line \u001b[0;36m1\n\u001b[0;32m      <a href='vscode-notebook-cell:/c%3A/Users/drago/Documents/GitHub/LEGOLAS-Files/Code/LEGOLAS_Scripts/LegolasOutline.ipynb#X13sZmlsZQ%3D%3D?line=7'>8</a>\u001b[0m     mix_ab(a,b,\u001b[39m*\u001b[39mcells[i])\n\u001b[0;32m      <a href='vscode-notebook-cell:/c%3A/Users/drago/Documents/GitHub/LEGOLAS-Files/Code/LEGOLAS_Scripts/LegolasOutline.ipynb#X13sZmlsZQ%3D%3D?line=8'>9</a>\u001b[0m     clean_ph()\n\u001b[1;32m---> <a href='vscode-notebook-cell:/c%3A/Users/drago/Documents/GitHub/LEGOLAS-Files/Code/LEGOLAS_Scripts/LegolasOutline.ipynb#X13sZmlsZQ%3D%3D?line=9'>10</a>\u001b[0m     ph_data\u001b[39m.\u001b[39mappend(measured_ph(\u001b[39m*\u001b[39;49mcells[i]))\n\u001b[0;32m     <a href='vscode-notebook-cell:/c%3A/Users/drago/Documents/GitHub/LEGOLAS-Files/Code/LEGOLAS_Scripts/LegolasOutline.ipynb#X13sZmlsZQ%3D%3D?line=10'>11</a>\u001b[0m plt\u001b[39m.\u001b[39mplot(mixes,ph_data)\n\u001b[0;32m     <a href='vscode-notebook-cell:/c%3A/Users/drago/Documents/GitHub/LEGOLAS-Files/Code/LEGOLAS_Scripts/LegolasOutline.ipynb#X13sZmlsZQ%3D%3D?line=11'>12</a>\u001b[0m plt\u001b[39m.\u001b[39mxlabel(\u001b[39m\"\u001b[39m\u001b[39mAcid\u001b[39m\u001b[39m\"\u001b[39m)\n",
      "\u001b[1;32mc:\\Users\\drago\\Documents\\GitHub\\LEGOLAS-Files\\Code\\LEGOLAS_Scripts\\LegolasOutline.ipynb Cell 19\u001b[0m line \u001b[0;36m3\n\u001b[0;32m     <a href='vscode-notebook-cell:/c%3A/Users/drago/Documents/GitHub/LEGOLAS-Files/Code/LEGOLAS_Scripts/LegolasOutline.ipynb#X13sZmlsZQ%3D%3D?line=34'>35</a>\u001b[0m \u001b[39mdef\u001b[39;00m \u001b[39mmeasured_ph\u001b[39m(row,col):\n\u001b[0;32m     <a href='vscode-notebook-cell:/c%3A/Users/drago/Documents/GitHub/LEGOLAS-Files/Code/LEGOLAS_Scripts/LegolasOutline.ipynb#X13sZmlsZQ%3D%3D?line=35'>36</a>\u001b[0m     pH_device\u001b[39m.\u001b[39mmove_to_cell(row\u001b[39m=\u001b[39mrow, col\u001b[39m=\u001b[39mcol)\n\u001b[1;32m---> <a href='vscode-notebook-cell:/c%3A/Users/drago/Documents/GitHub/LEGOLAS-Files/Code/LEGOLAS_Scripts/LegolasOutline.ipynb#X13sZmlsZQ%3D%3D?line=36'>37</a>\u001b[0m     pH \u001b[39m=\u001b[39m pH_device\u001b[39m.\u001b[39;49mpH_measure(stable_time\u001b[39m=\u001b[39;49m\u001b[39m1\u001b[39;49m) \u001b[39m###should be 20 for actual run\u001b[39;00m\n\u001b[0;32m     <a href='vscode-notebook-cell:/c%3A/Users/drago/Documents/GitHub/LEGOLAS-Files/Code/LEGOLAS_Scripts/LegolasOutline.ipynb#X13sZmlsZQ%3D%3D?line=37'>38</a>\u001b[0m     \u001b[39mprint\u001b[39m(\u001b[39mf\u001b[39m\u001b[39m\"\u001b[39m\u001b[39mrow \u001b[39m\u001b[39m{\u001b[39;00mrow\u001b[39m}\u001b[39;00m\u001b[39m col \u001b[39m\u001b[39m{\u001b[39;00mcol\u001b[39m}\u001b[39;00m\u001b[39m pH \u001b[39m\u001b[39m{\u001b[39;00mpH\u001b[39m}\u001b[39;00m\u001b[39m\"\u001b[39m)\n\u001b[0;32m     <a href='vscode-notebook-cell:/c%3A/Users/drago/Documents/GitHub/LEGOLAS-Files/Code/LEGOLAS_Scripts/LegolasOutline.ipynb#X13sZmlsZQ%3D%3D?line=38'>39</a>\u001b[0m     \u001b[39mreturn\u001b[39;00m pH\n",
      "File \u001b[1;32mc:\\Users\\drago\\Documents\\GitHub\\LEGOLAS-Files\\Code\\LEGOLAS_Scripts\\core.py:598\u001b[0m, in \u001b[0;36mpH_measure\u001b[1;34m(self, stable_time, location, row, col, x_degree, y_degree)\u001b[0m\n\u001b[0;32m    593\u001b[0m \u001b[39mself\u001b[39m\u001b[39m.\u001b[39mto_zpos(\u001b[39m\"\u001b[39m\u001b[39mfull_up\u001b[39m\u001b[39m\"\u001b[39m)\n\u001b[0;32m    595\u001b[0m \u001b[39m#for i in range (3):                         # for shaking off droplets\u001b[39;00m\n\u001b[0;32m    596\u001b[0m     \u001b[39m#self.motor_pH.run_for_degrees(shake)\u001b[39;00m\n\u001b[0;32m    597\u001b[0m     \u001b[39m#self.motor_pH.run_for_degrees(-shake)\u001b[39;00m\n\u001b[1;32m--> 598\u001b[0m \u001b[39mif\u001b[39;00m \u001b[39mself\u001b[39m\u001b[39m.\u001b[39mverbose:\n\u001b[0;32m    599\u001b[0m     \u001b[39mprint\u001b[39m(\u001b[39mf\u001b[39m\u001b[39m'\u001b[39m\u001b[39mpH is Measured as: \u001b[39m\u001b[39m{\u001b[39;00mpH_value\u001b[39m:\u001b[39;00m\u001b[39m.2f\u001b[39m\u001b[39m}\u001b[39;00m\u001b[39m'\u001b[39m, )\n\u001b[0;32m    600\u001b[0m \u001b[39mreturn\u001b[39;00m pH_value\n",
      "\u001b[1;31mTypeError\u001b[0m: unsupported format string passed to bytes.__format__"
     ]
    }
   ],
   "source": [
    "mixes=np.linspace(0.1,0.8,8)\n",
    "cells=[(0,3),(0,4),(0,5),(1,0),(1,1),(1,2),(1,3),(1,4)]#row,col\n",
    "ph_data=[]\n",
    "\n",
    "for i,mix in enumerate(mixes):\n",
    "    a=mix\n",
    "    b=1-mix\n",
    "    mix_ab(a,b,*cells[i])\n",
    "    clean_ph()\n",
    "    ph_data.append(measured_ph(*cells[i]))\n",
    "plt.plot(mixes,ph_data)\n",
    "plt.xlabel(\"Acid\")\n",
    "plt.ylabel(\"pH\")\n",
    "#during first run it crashed/TimeoutError after drawing up the first quantity of base and before raising the Z syringe.\n",
    "    #made it through that spot the next time after full reseting.\n",
    "    #timed out before drawing up the third 0.6ml of base.\n",
    "    #liquid motor is locked. Nothing else is.\n",
    "#stopped after drawing third -> was issue with the depo function with 0 volume. Changed limit to ignore less than 0.1 volume.\n",
    "# New TypeError: fail to decode message from pH device. raw messsage: b'4\\xfe4.14\\r\\n'.\n",
    "    #Failed on 0.7\n",
    "    #TA Recommendation: Use a bit longer stabalization time.\n",
    "    #Error had not been seen before."
   ]
  },
  {
   "cell_type": "code",
   "execution_count": 22,
   "metadata": {},
   "outputs": [
    {
     "name": "stdout",
     "output_type": "stream",
     "text": [
      "[3.64, 5.12, 4.89, 4.67, 4.5, 4.32]\n",
      "[0.1 0.2 0.3 0.4 0.5 0.6 0.7 0.8]\n"
     ]
    },
    {
     "data": {
      "text/plain": [
       "Text(0, 0.5, 'pH')"
      ]
     },
     "execution_count": 22,
     "metadata": {},
     "output_type": "execute_result"
    },
    {
     "data": {
      "image/png": "[encoded data removed]",
      "text/plain": [
       "<Figure size 640x480 with 1 Axes>"
      ]
     },
     "metadata": {},
     "output_type": "display_data"
    }
   ],
   "source": [
    "print(ph_data)\n",
    "print(mixes)\n",
    "plt.plot(mixes[:-2],ph_data)\n",
    "plt.xlabel(\"Acid\")\n",
    "plt.ylabel(\"pH\")"
   ]
  },
  {
   "cell_type": "markdown",
   "metadata": {},
   "source": [
    "We definitely need to let our probe stabalize more. Increasing wait time from 1 to 20"
   ]
  },
  {
   "cell_type": "markdown",
   "metadata": {},
   "source": [
    "### (d)\n",
    "We will now fit the HH equation to the data.  Write a function that takes in the [acid]/[base] ratio **x** and returns the **pH**, following this equation:\n",
    "-  Func(x, pK) = pK - log(x), where x = [acid]/[base]\n",
    "\n",
    "### (e)\n",
    "Follow the example for the scipy function \"curve_fit\" to fit this function to the data you have measured: \n",
    "\n",
    "https://docs.scipy.org/doc/scipy/reference/generated/scipy.optimize.curve_fit.html\n",
    "\n",
    "(use default method and no optional parameters)"
   ]
  },
  {
   "cell_type": "code",
   "execution_count": 2,
   "metadata": {},
   "outputs": [
    {
     "name": "stdout",
     "output_type": "stream",
     "text": [
      "pKa value from fitting: [4.72442861]\n"
     ]
    },
    {
     "data": {
      "image/png": "[encoded data removed]",
      "text/plain": [
       "<Figure size 640x480 with 1 Axes>"
      ]
     },
     "metadata": {},
     "output_type": "display_data"
    }
   ],
   "source": [
    "from scipy.optimize import curve_fit\n",
    "def ph_hh(x,pk):\n",
    "    \"\"\"\n",
    "    - x is [acid]/[base] ratio\n",
    "    - pk is pKa of the weak acid\n",
    "    - pH is returned\n",
    "    \"\"\"\n",
    "    return pk-np.log(x)\n",
    "\n",
    "# Generate demo data\n",
    "import numpy as np\n",
    "from matplotlib import pyplot as plt\n",
    "mock_pk=4.76\n",
    "mixes=np.linspace(0.1,0.8,8)\n",
    "x_ratio=mixes/(1-mixes)\n",
    "mock_ph=ph_hh(x_ratio,mock_pk)\n",
    "gaussian_noise = np.random.normal(0, 0.1, mock_ph.shape)\n",
    "mock_ph_data=mock_ph+gaussian_noise\n",
    "\n",
    "#fit ph data\n",
    "ph_data=mock_ph_data\n",
    "x_ratio=mixes/(1-mixes)\n",
    "fit_pk=curve_fit(ph_hh,x_ratio,ph_data)\n",
    "print(\"pKa value from fitting:\",fit_pk[0])\n",
    "fit_ph=ph_hh(x_ratio,fit_pk[0])\n",
    "\n",
    "plt.plot(mixes,mock_ph,\".\")\n",
    "plt.plot(mixes,mock_ph_data)\n",
    "plt.plot(mixes,fit_ph,\"-.\")\n",
    "\n",
    "plt.show()"
   ]
  },
  {
   "cell_type": "markdown",
   "metadata": {},
   "source": [
    "### (f) What is the pK value discovered?"
   ]
  },
  {
   "cell_type": "markdown",
   "metadata": {},
   "source": [
    "4.727 from mock data"
   ]
  },
  {
   "cell_type": "markdown",
   "id": "b99b2149",
   "metadata": {},
   "source": [
    "## (3) Gaussian Process \n",
    "\n",
    "**(a)** Fit the data with Gaussian process regression using an RBF kernel.  Optimize the hyperparameters and plot the results.  Output the GP hyperparameters: kernel length scale, kernel variance, noise variance.\n"
   ]
  },
  {
   "cell_type": "code",
   "execution_count": 2,
   "metadata": {},
   "outputs": [],
   "source": [
    "# %pip install numpy==1.23\n",
    "# %pip list\n",
    "#error: Microsoft Visual C++ 14.0 or greater is required. Get it with \"Microsoft C++ Build Tools\": https://visualstudio.microsoft.com/visual-cpp-build-tools/\n",
    "#https://visualstudio.microsoft.com/visual-cpp-build-tools/\n",
    "# %pip install GPy\n",
    "# %pip install GPyOpt\n",
    "#https://github.com/SheffieldML/GPy\n",
    "# %pip freeze -> requirements.txt"
   ]
  },
  {
   "cell_type": "code",
   "execution_count": 1,
   "metadata": {},
   "outputs": [],
   "source": [
    "import numpy as np\n",
    "from matplotlib import pyplot as plt\n",
    "import GPy\n",
    "import GPyOpt"
   ]
  },
  {
   "cell_type": "markdown",
   "metadata": {},
   "source": [
    "\n",
    "**(b)** Do the same, but this time with the data for x = [10%,...,60%]\n"
   ]
  },
  {
   "cell_type": "code",
   "execution_count": null,
   "metadata": {},
   "outputs": [],
   "source": []
  },
  {
   "cell_type": "markdown",
   "metadata": {},
   "source": [
    "\n",
    "**(c)** Bad assumptions:\n",
    "-  In (a) and (b) we optimized to find the best values for the hyperparameters. Let’s see what happens when we pick a poor value. Here we again will use the partial data used in (b). Using the following lines of code, fix the kernel length scale to first a value of 0.1 and then 10. For each case, optimize the rest of the parameters and plot the results. What is the impact of fixing a small or large value for the length scale?(m.rbf.lengthscale = 0.1, m.rbf.lengthscale.fix())\n",
    "- Now let’s see what happens when we make a poor assumption for the kernel. Again use the partial data from (b). Let’s set the kernel to the standard periodic: StdPeriodic(1)\n",
    "- This imposes the assumption that the pH function is periodic. Optimize all the hyperparameters and plot the result."
   ]
  },
  {
   "cell_type": "code",
   "execution_count": null,
   "id": "0f99a930",
   "metadata": {},
   "outputs": [],
   "source": []
  },
  {
   "cell_type": "markdown",
   "id": "5ec3d25e",
   "metadata": {},
   "source": [
    "## (4) Active Learning: Optimizing \n",
    "\n",
    "In this section we will combine the GP of (3a) with active learning.\n",
    "\n",
    "**(a)** We would like to find the value of x where pH = 4.75\n",
    "Define an acquisition function and discuss with the TA or a professor. For this challenge combine exploitation and exploration.\n",
    "\n",
    "**(b)** Combine the acquisition function with the GP of (3a). Hint: use the demo code from the active learning lecture. Allow active learning to select any 5% increment value of the acid percentage (5% through 95%). Have active learning make 8 samples in sequence, following the GP and active learning loop. What result do you get?\n",
    "\n"
   ]
  },
  {
   "cell_type": "code",
   "execution_count": null,
   "id": "50b2d456",
   "metadata": {},
   "outputs": [],
   "source": []
  }
 ],
 "metadata": {
  "kernelspec": {
   "display_name": "Python 3 (ipykernel)",
   "language": "python",
   "name": "python3"
  },
  "language_info": {
   "codemirror_mode": {
    "name": "ipython",
    "version": 3
   },
   "file_extension": ".py",
   "mimetype": "text/x-python",
   "name": "python",
   "nbconvert_exporter": "python",
   "pygments_lexer": "ipython3",
   "version": "3.10.8"
  },
  "vscode": {
   "interpreter": {
    "hash": "0095c6ec66f02ae1bc8a134f6078f14ee669be44a5c4ac33d7f267434e255fcc"
   }
  }
 },
 "nbformat": 4,
 "nbformat_minor": 5
}
