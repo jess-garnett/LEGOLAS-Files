{
 "cells": [
  {
   "cell_type": "markdown",
   "metadata": {},
   "source": [
    "# Jess's Notes 11/13/23"
   ]
  },
  {
   "cell_type": "markdown",
   "metadata": {},
   "source": [
    "IP Addresses:\n",
    "- 192.168.0.4   2a\n",
    "- 192.168.0.5   2b"
   ]
  },
  {
   "cell_type": "code",
   "execution_count": 1,
   "metadata": {},
   "outputs": [
    {
     "name": "stdout",
     "output_type": "stream",
     "text": [
      "Package           Version\n",
      "----------------- -------\n",
      "asttokens         2.4.1\n",
      "bcrypt            4.0.1\n",
      "cffi              1.16.0\n",
      "colorama          0.4.6\n",
      "comm              0.2.0\n",
      "contourpy         1.2.0\n",
      "cryptography      41.0.5\n",
      "cycler            0.12.1\n",
      "debugpy           1.8.0\n",
      "decorator         5.1.1\n",
      "exceptiongroup    1.1.3\n",
      "executing         2.0.1\n",
      "fonttools         4.44.0\n",
      "ipykernel         6.26.0\n",
      "ipython           8.17.2\n",
      "jedi              0.19.1\n",
      "jupyter_client    8.6.0\n",
      "jupyter_core      5.5.0\n",
      "kiwisolver        1.4.5\n",
      "matplotlib        3.8.1\n",
      "matplotlib-inline 0.1.6\n",
      "nest-asyncio      1.5.8\n",
      "numpy             1.26.2\n",
      "packaging         23.2\n",
      "paramiko          3.3.1\n",
      "parso             0.8.3\n",
      "Pillow            10.1.0\n",
      "pip               22.2.1\n",
      "platformdirs      4.0.0\n",
      "plumbum           1.8.2\n",
      "prompt-toolkit    3.0.40\n",
      "psutil            5.9.6\n",
      "pure-eval         0.2.2\n",
      "pycparser         2.21\n",
      "Pygments          2.16.1\n",
      "PyNaCl            1.5.0\n",
      "pyparsing         3.1.1\n",
      "python-dateutil   2.8.2\n",
      "pywin32           306\n",
      "PyYAML            6.0.1\n",
      "pyzmq             25.1.1\n",
      "rpyc              5.3.1\n",
      "scipy             1.11.3\n",
      "setuptools        63.2.0\n",
      "six               1.16.0\n",
      "stack-data        0.6.3\n",
      "sv-ttk            2.5.5\n",
      "tornado           6.3.3\n",
      "traitlets         5.13.0\n",
      "wcwidth           0.2.9\n",
      "Note: you may need to restart the kernel to use updated packages.\n"
     ]
    },
    {
     "name": "stderr",
     "output_type": "stream",
     "text": [
      "\n",
      "[notice] A new release of pip available: 22.2.1 -> 23.3.1\n",
      "[notice] To update, run: python.exe -m pip install --upgrade pip\n"
     ]
    }
   ],
   "source": [
    "# %pip install pyyaml\n",
    "# %pip install rpyc\n",
    "# %pip install numpy\n",
    "# %pip install matplotlib\n",
    "# %pip install scipy\n",
    "# %pip install paramiko\n",
    "# %pip install sv_ttk\n",
    "# %pip freeze -> requirements.txt\n",
    "%pip list"
   ]
  }
 ],
 "metadata": {
  "kernelspec": {
   "display_name": ".venv",
   "language": "python",
   "name": "python3"
  },
  "language_info": {
   "codemirror_mode": {
    "name": "ipython",
    "version": 3
   },
   "file_extension": ".py",
   "mimetype": "text/x-python",
   "name": "python",
   "nbconvert_exporter": "python",
   "pygments_lexer": "ipython3",
   "version": "3.10.6"
  }
 },
 "nbformat": 4,
 "nbformat_minor": 2
}
